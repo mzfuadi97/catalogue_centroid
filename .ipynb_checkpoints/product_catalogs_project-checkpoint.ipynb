{
 "cells": [
  {
   "cell_type": "code",
   "execution_count": 1,
   "metadata": {},
   "outputs": [
    {
     "ename": "ModuleNotFoundError",
     "evalue": "No module named 'sentence_transformers'",
     "output_type": "error",
     "traceback": [
      "\u001b[1;31m---------------------------------------------------------------------------\u001b[0m",
      "\u001b[1;31mModuleNotFoundError\u001b[0m                       Traceback (most recent call last)",
      "\u001b[1;32m~\\AppData\\Local\\Temp\\ipykernel_35284\\1310792901.py\u001b[0m in \u001b[0;36m<module>\u001b[1;34m\u001b[0m\n\u001b[0;32m      5\u001b[0m \u001b[1;32mfrom\u001b[0m \u001b[0msklearn\u001b[0m\u001b[1;33m.\u001b[0m\u001b[0mmetrics\u001b[0m\u001b[1;33m.\u001b[0m\u001b[0mpairwise\u001b[0m \u001b[1;32mimport\u001b[0m \u001b[0mcosine_similarity\u001b[0m\u001b[1;33m\u001b[0m\u001b[1;33m\u001b[0m\u001b[0m\n\u001b[0;32m      6\u001b[0m \u001b[1;32mfrom\u001b[0m \u001b[0msklearn\u001b[0m\u001b[1;33m.\u001b[0m\u001b[0mmetrics\u001b[0m \u001b[1;32mimport\u001b[0m \u001b[0msilhouette_score\u001b[0m\u001b[1;33m\u001b[0m\u001b[1;33m\u001b[0m\u001b[0m\n\u001b[1;32m----> 7\u001b[1;33m \u001b[1;32mfrom\u001b[0m \u001b[0msentence_transformers\u001b[0m \u001b[1;32mimport\u001b[0m \u001b[0mSentenceTransformer\u001b[0m\u001b[1;33m,\u001b[0m \u001b[0mutil\u001b[0m\u001b[1;33m\u001b[0m\u001b[1;33m\u001b[0m\u001b[0m\n\u001b[0m\u001b[0;32m      8\u001b[0m \u001b[1;32mimport\u001b[0m \u001b[0mtime\u001b[0m\u001b[1;33m\u001b[0m\u001b[1;33m\u001b[0m\u001b[0m\n\u001b[0;32m      9\u001b[0m \u001b[1;32mimport\u001b[0m \u001b[0mtorch\u001b[0m\u001b[1;33m\u001b[0m\u001b[1;33m\u001b[0m\u001b[0m\n",
      "\u001b[1;31mModuleNotFoundError\u001b[0m: No module named 'sentence_transformers'"
     ]
    }
   ],
   "source": [
    "import pandas as pd\n",
    "import numpy as np\n",
    "from sklearn.model_selection import train_test_split\n",
    "import matplotlib.pyplot as plt\n",
    "from sklearn.metrics.pairwise import cosine_similarity\n",
    "from sklearn.metrics import silhouette_score\n",
    "from sentence_transformers import SentenceTransformer, util\n",
    "import time\n",
    "import torch\n",
    "import matplotlib.pyplot as plt"
   ]
  },
  {
   "cell_type": "code",
   "execution_count": null,
   "metadata": {},
   "outputs": [],
   "source": [
    "!pip install sentence_transformers"
   ]
  },
  {
   "cell_type": "markdown",
   "metadata": {},
   "source": [
    "# Azhar Izzannada Elbachtiar"
   ]
  },
  {
   "cell_type": "markdown",
   "metadata": {},
   "source": [
    "# **Exploratory Data Analysis**"
   ]
  },
  {
   "cell_type": "code",
   "execution_count": 2,
   "metadata": {},
   "outputs": [
    {
     "data": {
      "text/html": [
       "<div>\n",
       "<style scoped>\n",
       "    .dataframe tbody tr th:only-of-type {\n",
       "        vertical-align: middle;\n",
       "    }\n",
       "\n",
       "    .dataframe tbody tr th {\n",
       "        vertical-align: top;\n",
       "    }\n",
       "\n",
       "    .dataframe thead th {\n",
       "        text-align: right;\n",
       "    }\n",
       "</style>\n",
       "<table border=\"1\" class=\"dataframe\">\n",
       "  <thead>\n",
       "    <tr style=\"text-align: right;\">\n",
       "      <th></th>\n",
       "      <th>uniq_id</th>\n",
       "      <th>product_name</th>\n",
       "      <th>manufacturer</th>\n",
       "      <th>price</th>\n",
       "      <th>number_available_in_stock</th>\n",
       "      <th>number_of_reviews</th>\n",
       "      <th>number_of_answered_questions</th>\n",
       "      <th>average_review_rating</th>\n",
       "      <th>amazon_category_and_sub_category</th>\n",
       "      <th>customers_who_bought_this_item_also_bought</th>\n",
       "      <th>description</th>\n",
       "      <th>product_information</th>\n",
       "      <th>product_description</th>\n",
       "      <th>items_customers_buy_after_viewing_this_item</th>\n",
       "      <th>customer_questions_and_answers</th>\n",
       "      <th>customer_reviews</th>\n",
       "      <th>sellers</th>\n",
       "    </tr>\n",
       "  </thead>\n",
       "  <tbody>\n",
       "    <tr>\n",
       "      <th>0</th>\n",
       "      <td>eac7efa5dbd3d667f26eb3d3ab504464</td>\n",
       "      <td>Hornby 2014 Catalogue</td>\n",
       "      <td>Hornby</td>\n",
       "      <td>£3.42</td>\n",
       "      <td>5 new</td>\n",
       "      <td>15</td>\n",
       "      <td>1.0</td>\n",
       "      <td>4.9 out of 5 stars</td>\n",
       "      <td>Hobbies &gt; Model Trains &amp; Railway Sets &gt; Rail V...</td>\n",
       "      <td>http://www.amazon.co.uk/Hornby-R8150-Catalogue...</td>\n",
       "      <td>Product Description Hornby 2014 Catalogue Box ...</td>\n",
       "      <td>Technical Details Item Weight640 g Product Dim...</td>\n",
       "      <td>Product Description Hornby 2014 Catalogue Box ...</td>\n",
       "      <td>http://www.amazon.co.uk/Hornby-R8150-Catalogue...</td>\n",
       "      <td>Does this catalogue detail all the previous Ho...</td>\n",
       "      <td>Worth Buying For The Pictures Alone (As Ever) ...</td>\n",
       "      <td>{\"seller\"=&gt;[{\"Seller_name_1\"=&gt;\"Amazon.co.uk\", ...</td>\n",
       "    </tr>\n",
       "    <tr>\n",
       "      <th>1</th>\n",
       "      <td>b17540ef7e86e461d37f3ae58b7b72ac</td>\n",
       "      <td>FunkyBuys® Large Christmas Holiday Express Fes...</td>\n",
       "      <td>FunkyBuys</td>\n",
       "      <td>£16.99</td>\n",
       "      <td>NaN</td>\n",
       "      <td>2</td>\n",
       "      <td>1.0</td>\n",
       "      <td>4.5 out of 5 stars</td>\n",
       "      <td>Hobbies &gt; Model Trains &amp; Railway Sets &gt; Rail V...</td>\n",
       "      <td>http://www.amazon.co.uk/Christmas-Holiday-Expr...</td>\n",
       "      <td>Size Name:Large FunkyBuys® Large Christmas Hol...</td>\n",
       "      <td>Technical Details Manufacturer recommended age...</td>\n",
       "      <td>Size Name:Large FunkyBuys® Large Christmas Hol...</td>\n",
       "      <td>http://www.amazon.co.uk/Christmas-Holiday-Expr...</td>\n",
       "      <td>can you turn off sounds // hi no you cant turn...</td>\n",
       "      <td>Four Stars // 4.0 // 18 Dec. 2015 // By\\n    \\...</td>\n",
       "      <td>{\"seller\"=&gt;{\"Seller_name_1\"=&gt;\"UHD WHOLESALE\", ...</td>\n",
       "    </tr>\n",
       "    <tr>\n",
       "      <th>2</th>\n",
       "      <td>348f344247b0c1a935b1223072ef9d8a</td>\n",
       "      <td>CLASSIC TOY TRAIN SET TRACK CARRIAGES LIGHT EN...</td>\n",
       "      <td>ccf</td>\n",
       "      <td>£9.99</td>\n",
       "      <td>2 new</td>\n",
       "      <td>17</td>\n",
       "      <td>2.0</td>\n",
       "      <td>3.9 out of 5 stars</td>\n",
       "      <td>Hobbies &gt; Model Trains &amp; Railway Sets &gt; Rail V...</td>\n",
       "      <td>http://www.amazon.co.uk/Classic-Train-Lights-B...</td>\n",
       "      <td>BIG CLASSIC TOY TRAIN SET TRACK CARRIAGE LIGHT...</td>\n",
       "      <td>Technical Details Manufacturer recommended age...</td>\n",
       "      <td>BIG CLASSIC TOY TRAIN SET TRACK CARRIAGE LIGHT...</td>\n",
       "      <td>http://www.amazon.co.uk/Train-With-Tracks-Batt...</td>\n",
       "      <td>What is the gauge of the track // Hi Paul.Trut...</td>\n",
       "      <td>**Highly Recommended!** // 5.0 // 26 May 2015 ...</td>\n",
       "      <td>{\"seller\"=&gt;[{\"Seller_name_1\"=&gt;\"DEAL-BOX\", \"Sel...</td>\n",
       "    </tr>\n",
       "    <tr>\n",
       "      <th>3</th>\n",
       "      <td>e12b92dbb8eaee78b22965d2a9bbbd9f</td>\n",
       "      <td>HORNBY Coach R4410A BR Hawksworth Corridor 3rd</td>\n",
       "      <td>Hornby</td>\n",
       "      <td>£39.99</td>\n",
       "      <td>NaN</td>\n",
       "      <td>1</td>\n",
       "      <td>2.0</td>\n",
       "      <td>5.0 out of 5 stars</td>\n",
       "      <td>Hobbies &gt; Model Trains &amp; Railway Sets &gt; Rail V...</td>\n",
       "      <td>NaN</td>\n",
       "      <td>Hornby 00 Gauge BR Hawksworth 3rd Class W 2107...</td>\n",
       "      <td>Technical Details Item Weight259 g Product Dim...</td>\n",
       "      <td>Hornby 00 Gauge BR Hawksworth 3rd Class W 2107...</td>\n",
       "      <td>NaN</td>\n",
       "      <td>NaN</td>\n",
       "      <td>I love it // 5.0 // 22 July 2013 // By\\n    \\n...</td>\n",
       "      <td>NaN</td>\n",
       "    </tr>\n",
       "    <tr>\n",
       "      <th>4</th>\n",
       "      <td>e33a9adeed5f36840ccc227db4682a36</td>\n",
       "      <td>Hornby 00 Gauge 0-4-0 Gildenlow Salt Co. Steam...</td>\n",
       "      <td>Hornby</td>\n",
       "      <td>£32.19</td>\n",
       "      <td>NaN</td>\n",
       "      <td>3</td>\n",
       "      <td>2.0</td>\n",
       "      <td>4.7 out of 5 stars</td>\n",
       "      <td>Hobbies &gt; Model Trains &amp; Railway Sets &gt; Rail V...</td>\n",
       "      <td>http://www.amazon.co.uk/Hornby-R6367-RailRoad-...</td>\n",
       "      <td>Product Description Hornby RailRoad 0-4-0 Gild...</td>\n",
       "      <td>Technical Details Item Weight159 g Product Dim...</td>\n",
       "      <td>Product Description Hornby RailRoad 0-4-0 Gild...</td>\n",
       "      <td>http://www.amazon.co.uk/Hornby-R2672-RailRoad-...</td>\n",
       "      <td>NaN</td>\n",
       "      <td>Birthday present // 5.0 // 14 April 2014 // By...</td>\n",
       "      <td>NaN</td>\n",
       "    </tr>\n",
       "    <tr>\n",
       "      <th>...</th>\n",
       "      <td>...</td>\n",
       "      <td>...</td>\n",
       "      <td>...</td>\n",
       "      <td>...</td>\n",
       "      <td>...</td>\n",
       "      <td>...</td>\n",
       "      <td>...</td>\n",
       "      <td>...</td>\n",
       "      <td>...</td>\n",
       "      <td>...</td>\n",
       "      <td>...</td>\n",
       "      <td>...</td>\n",
       "      <td>...</td>\n",
       "      <td>...</td>\n",
       "      <td>...</td>\n",
       "      <td>...</td>\n",
       "      <td>...</td>\n",
       "    </tr>\n",
       "    <tr>\n",
       "      <th>9995</th>\n",
       "      <td>44d6967f083825a5de36ad4865a65bcd</td>\n",
       "      <td>Batman 1966 TV Series Action Figures - The Rid...</td>\n",
       "      <td>Mattel</td>\n",
       "      <td>£22.95</td>\n",
       "      <td>5 new</td>\n",
       "      <td>3</td>\n",
       "      <td>3.0</td>\n",
       "      <td>5.0 out of 5 stars</td>\n",
       "      <td>Hobbies &gt; Collectible Figures &amp; Memorabilia &gt; ...</td>\n",
       "      <td>http://www.amazon.co.uk/Batman-1966-Series-Act...</td>\n",
       "      <td>DC 66 Batman Classic TV Series 6 Inch Riddler ...</td>\n",
       "      <td>Technical Details Item Weight136 g Product Dim...</td>\n",
       "      <td>DC 66 Batman Classic TV Series 6 Inch Riddler ...</td>\n",
       "      <td>NaN</td>\n",
       "      <td>NaN</td>\n",
       "      <td>Realistic // 5.0 // 31 Mar. 2014 // By\\n    \\n...</td>\n",
       "      <td>{\"seller\"=&gt;[{\"Seller_name_1\"=&gt;\"Star Action Fig...</td>\n",
       "    </tr>\n",
       "    <tr>\n",
       "      <th>9996</th>\n",
       "      <td>08f0747b6fc6687215ffb994c3a6fb32</td>\n",
       "      <td>Star Wars Costume, Kids Stormtrooper Costume S...</td>\n",
       "      <td>Star Wars</td>\n",
       "      <td>£39.99</td>\n",
       "      <td>NaN</td>\n",
       "      <td>1</td>\n",
       "      <td>3.0</td>\n",
       "      <td>4.0 out of 5 stars</td>\n",
       "      <td>Characters &amp; Brands &gt; Star Wars &gt; Toys</td>\n",
       "      <td>http://www.amazon.co.uk/Storm-Trooper-Costume-...</td>\n",
       "      <td>NaN</td>\n",
       "      <td>Technical Details    Additional Information AS...</td>\n",
       "      <td>NaN</td>\n",
       "      <td>http://www.amazon.co.uk/Storm-Trooper-Costume-...</td>\n",
       "      <td>NaN</td>\n",
       "      <td>... what I see my grandson us going to have fu...</td>\n",
       "      <td>NaN</td>\n",
       "    </tr>\n",
       "    <tr>\n",
       "      <th>9997</th>\n",
       "      <td>bf6cc073f8f24e6e338190fa16f6ee9d</td>\n",
       "      <td>Defiance Lawkeeper Metal Badge Prop Replica</td>\n",
       "      <td>Olde Scotland Yard Ltd.</td>\n",
       "      <td>£43.99</td>\n",
       "      <td>3 new</td>\n",
       "      <td>1</td>\n",
       "      <td>3.0</td>\n",
       "      <td>5.0 out of 5 stars</td>\n",
       "      <td>Novelty &amp; Special Use &gt; Novelty &gt; Accessories ...</td>\n",
       "      <td>NaN</td>\n",
       "      <td>*Includes 1x Badge with holder and chain *High...</td>\n",
       "      <td>Technical Details Item Weight159 g Product Dim...</td>\n",
       "      <td>*Includes 1x Badge with holder and chain *High...</td>\n",
       "      <td>http://www.amazon.co.uk/Olde-Scotland-Yard-Ltd...</td>\n",
       "      <td>NaN</td>\n",
       "      <td>Five Stars // 5.0 // 18 Dec. 2015 // By\\n    \\...</td>\n",
       "      <td>{\"seller\"=&gt;[{\"Seller_name_1\"=&gt;\"YUK\", \"Seller_p...</td>\n",
       "    </tr>\n",
       "    <tr>\n",
       "      <th>9998</th>\n",
       "      <td>cd783d0b8b44e631b9788b203eaaefae</td>\n",
       "      <td>Justice League of America Series 3 Green Lante...</td>\n",
       "      <td>DC Comics</td>\n",
       "      <td>£49.81</td>\n",
       "      <td>3 new</td>\n",
       "      <td>1</td>\n",
       "      <td>3.0</td>\n",
       "      <td>5.0 out of 5 stars</td>\n",
       "      <td>Hobbies &gt; Collectible Figures &amp; Memorabilia &gt; ...</td>\n",
       "      <td>NaN</td>\n",
       "      <td>Designed by Ed BenesIt's here - the third seri...</td>\n",
       "      <td>Technical Details Item Weight181 g Product Dim...</td>\n",
       "      <td>Designed by Ed BenesIt's here - the third seri...</td>\n",
       "      <td>NaN</td>\n",
       "      <td>NaN</td>\n",
       "      <td>The best sculpt in a while // 5.0 // 13 May 20...</td>\n",
       "      <td>{\"seller\"=&gt;[{\"Seller_name_1\"=&gt;\"Smaller World F...</td>\n",
       "    </tr>\n",
       "    <tr>\n",
       "      <th>9999</th>\n",
       "      <td>94d18e86e504bee1e392df7e5738b18a</td>\n",
       "      <td>Star Wars 1/72 Y-Wing Starfighter</td>\n",
       "      <td>Bandai</td>\n",
       "      <td>£21.20</td>\n",
       "      <td>31 new</td>\n",
       "      <td>11</td>\n",
       "      <td>3.0</td>\n",
       "      <td>4.5 out of 5 stars</td>\n",
       "      <td>Characters &amp; Brands &gt; Star Wars &gt; Toys</td>\n",
       "      <td>http://www.amazon.co.uk/Bandai-Star-Wars-Fight...</td>\n",
       "      <td>NaN</td>\n",
       "      <td>Technical Details Item Weight299 g Product Dim...</td>\n",
       "      <td>NaN</td>\n",
       "      <td>NaN</td>\n",
       "      <td>NaN</td>\n",
       "      <td>Gold leader // 5.0 // 31 Aug. 2015 // By\\n    ...</td>\n",
       "      <td>NaN</td>\n",
       "    </tr>\n",
       "  </tbody>\n",
       "</table>\n",
       "<p>10000 rows × 17 columns</p>\n",
       "</div>"
      ],
      "text/plain": [
       "                               uniq_id  \\\n",
       "0     eac7efa5dbd3d667f26eb3d3ab504464   \n",
       "1     b17540ef7e86e461d37f3ae58b7b72ac   \n",
       "2     348f344247b0c1a935b1223072ef9d8a   \n",
       "3     e12b92dbb8eaee78b22965d2a9bbbd9f   \n",
       "4     e33a9adeed5f36840ccc227db4682a36   \n",
       "...                                ...   \n",
       "9995  44d6967f083825a5de36ad4865a65bcd   \n",
       "9996  08f0747b6fc6687215ffb994c3a6fb32   \n",
       "9997  bf6cc073f8f24e6e338190fa16f6ee9d   \n",
       "9998  cd783d0b8b44e631b9788b203eaaefae   \n",
       "9999  94d18e86e504bee1e392df7e5738b18a   \n",
       "\n",
       "                                           product_name  \\\n",
       "0                                 Hornby 2014 Catalogue   \n",
       "1     FunkyBuys® Large Christmas Holiday Express Fes...   \n",
       "2     CLASSIC TOY TRAIN SET TRACK CARRIAGES LIGHT EN...   \n",
       "3        HORNBY Coach R4410A BR Hawksworth Corridor 3rd   \n",
       "4     Hornby 00 Gauge 0-4-0 Gildenlow Salt Co. Steam...   \n",
       "...                                                 ...   \n",
       "9995  Batman 1966 TV Series Action Figures - The Rid...   \n",
       "9996  Star Wars Costume, Kids Stormtrooper Costume S...   \n",
       "9997        Defiance Lawkeeper Metal Badge Prop Replica   \n",
       "9998  Justice League of America Series 3 Green Lante...   \n",
       "9999                  Star Wars 1/72 Y-Wing Starfighter   \n",
       "\n",
       "                 manufacturer   price number_available_in_stock  \\\n",
       "0                      Hornby   £3.42                     5 new   \n",
       "1                   FunkyBuys  £16.99                       NaN   \n",
       "2                         ccf   £9.99                     2 new   \n",
       "3                      Hornby  £39.99                       NaN   \n",
       "4                      Hornby  £32.19                       NaN   \n",
       "...                       ...     ...                       ...   \n",
       "9995                   Mattel  £22.95                     5 new   \n",
       "9996                Star Wars  £39.99                       NaN   \n",
       "9997  Olde Scotland Yard Ltd.  £43.99                     3 new   \n",
       "9998                DC Comics  £49.81                     3 new   \n",
       "9999                   Bandai  £21.20                    31 new   \n",
       "\n",
       "     number_of_reviews  number_of_answered_questions average_review_rating  \\\n",
       "0                   15                           1.0    4.9 out of 5 stars   \n",
       "1                    2                           1.0    4.5 out of 5 stars   \n",
       "2                   17                           2.0    3.9 out of 5 stars   \n",
       "3                    1                           2.0    5.0 out of 5 stars   \n",
       "4                    3                           2.0    4.7 out of 5 stars   \n",
       "...                ...                           ...                   ...   \n",
       "9995                 3                           3.0    5.0 out of 5 stars   \n",
       "9996                 1                           3.0    4.0 out of 5 stars   \n",
       "9997                 1                           3.0    5.0 out of 5 stars   \n",
       "9998                 1                           3.0    5.0 out of 5 stars   \n",
       "9999                11                           3.0    4.5 out of 5 stars   \n",
       "\n",
       "                       amazon_category_and_sub_category  \\\n",
       "0     Hobbies > Model Trains & Railway Sets > Rail V...   \n",
       "1     Hobbies > Model Trains & Railway Sets > Rail V...   \n",
       "2     Hobbies > Model Trains & Railway Sets > Rail V...   \n",
       "3     Hobbies > Model Trains & Railway Sets > Rail V...   \n",
       "4     Hobbies > Model Trains & Railway Sets > Rail V...   \n",
       "...                                                 ...   \n",
       "9995  Hobbies > Collectible Figures & Memorabilia > ...   \n",
       "9996             Characters & Brands > Star Wars > Toys   \n",
       "9997  Novelty & Special Use > Novelty > Accessories ...   \n",
       "9998  Hobbies > Collectible Figures & Memorabilia > ...   \n",
       "9999             Characters & Brands > Star Wars > Toys   \n",
       "\n",
       "             customers_who_bought_this_item_also_bought  \\\n",
       "0     http://www.amazon.co.uk/Hornby-R8150-Catalogue...   \n",
       "1     http://www.amazon.co.uk/Christmas-Holiday-Expr...   \n",
       "2     http://www.amazon.co.uk/Classic-Train-Lights-B...   \n",
       "3                                                   NaN   \n",
       "4     http://www.amazon.co.uk/Hornby-R6367-RailRoad-...   \n",
       "...                                                 ...   \n",
       "9995  http://www.amazon.co.uk/Batman-1966-Series-Act...   \n",
       "9996  http://www.amazon.co.uk/Storm-Trooper-Costume-...   \n",
       "9997                                                NaN   \n",
       "9998                                                NaN   \n",
       "9999  http://www.amazon.co.uk/Bandai-Star-Wars-Fight...   \n",
       "\n",
       "                                            description  \\\n",
       "0     Product Description Hornby 2014 Catalogue Box ...   \n",
       "1     Size Name:Large FunkyBuys® Large Christmas Hol...   \n",
       "2     BIG CLASSIC TOY TRAIN SET TRACK CARRIAGE LIGHT...   \n",
       "3     Hornby 00 Gauge BR Hawksworth 3rd Class W 2107...   \n",
       "4     Product Description Hornby RailRoad 0-4-0 Gild...   \n",
       "...                                                 ...   \n",
       "9995  DC 66 Batman Classic TV Series 6 Inch Riddler ...   \n",
       "9996                                                NaN   \n",
       "9997  *Includes 1x Badge with holder and chain *High...   \n",
       "9998  Designed by Ed BenesIt's here - the third seri...   \n",
       "9999                                                NaN   \n",
       "\n",
       "                                    product_information  \\\n",
       "0     Technical Details Item Weight640 g Product Dim...   \n",
       "1     Technical Details Manufacturer recommended age...   \n",
       "2     Technical Details Manufacturer recommended age...   \n",
       "3     Technical Details Item Weight259 g Product Dim...   \n",
       "4     Technical Details Item Weight159 g Product Dim...   \n",
       "...                                                 ...   \n",
       "9995  Technical Details Item Weight136 g Product Dim...   \n",
       "9996  Technical Details    Additional Information AS...   \n",
       "9997  Technical Details Item Weight159 g Product Dim...   \n",
       "9998  Technical Details Item Weight181 g Product Dim...   \n",
       "9999  Technical Details Item Weight299 g Product Dim...   \n",
       "\n",
       "                                    product_description  \\\n",
       "0     Product Description Hornby 2014 Catalogue Box ...   \n",
       "1     Size Name:Large FunkyBuys® Large Christmas Hol...   \n",
       "2     BIG CLASSIC TOY TRAIN SET TRACK CARRIAGE LIGHT...   \n",
       "3     Hornby 00 Gauge BR Hawksworth 3rd Class W 2107...   \n",
       "4     Product Description Hornby RailRoad 0-4-0 Gild...   \n",
       "...                                                 ...   \n",
       "9995  DC 66 Batman Classic TV Series 6 Inch Riddler ...   \n",
       "9996                                                NaN   \n",
       "9997  *Includes 1x Badge with holder and chain *High...   \n",
       "9998  Designed by Ed BenesIt's here - the third seri...   \n",
       "9999                                                NaN   \n",
       "\n",
       "            items_customers_buy_after_viewing_this_item  \\\n",
       "0     http://www.amazon.co.uk/Hornby-R8150-Catalogue...   \n",
       "1     http://www.amazon.co.uk/Christmas-Holiday-Expr...   \n",
       "2     http://www.amazon.co.uk/Train-With-Tracks-Batt...   \n",
       "3                                                   NaN   \n",
       "4     http://www.amazon.co.uk/Hornby-R2672-RailRoad-...   \n",
       "...                                                 ...   \n",
       "9995                                                NaN   \n",
       "9996  http://www.amazon.co.uk/Storm-Trooper-Costume-...   \n",
       "9997  http://www.amazon.co.uk/Olde-Scotland-Yard-Ltd...   \n",
       "9998                                                NaN   \n",
       "9999                                                NaN   \n",
       "\n",
       "                         customer_questions_and_answers  \\\n",
       "0     Does this catalogue detail all the previous Ho...   \n",
       "1     can you turn off sounds // hi no you cant turn...   \n",
       "2     What is the gauge of the track // Hi Paul.Trut...   \n",
       "3                                                   NaN   \n",
       "4                                                   NaN   \n",
       "...                                                 ...   \n",
       "9995                                                NaN   \n",
       "9996                                                NaN   \n",
       "9997                                                NaN   \n",
       "9998                                                NaN   \n",
       "9999                                                NaN   \n",
       "\n",
       "                                       customer_reviews  \\\n",
       "0     Worth Buying For The Pictures Alone (As Ever) ...   \n",
       "1     Four Stars // 4.0 // 18 Dec. 2015 // By\\n    \\...   \n",
       "2     **Highly Recommended!** // 5.0 // 26 May 2015 ...   \n",
       "3     I love it // 5.0 // 22 July 2013 // By\\n    \\n...   \n",
       "4     Birthday present // 5.0 // 14 April 2014 // By...   \n",
       "...                                                 ...   \n",
       "9995  Realistic // 5.0 // 31 Mar. 2014 // By\\n    \\n...   \n",
       "9996  ... what I see my grandson us going to have fu...   \n",
       "9997  Five Stars // 5.0 // 18 Dec. 2015 // By\\n    \\...   \n",
       "9998  The best sculpt in a while // 5.0 // 13 May 20...   \n",
       "9999  Gold leader // 5.0 // 31 Aug. 2015 // By\\n    ...   \n",
       "\n",
       "                                                sellers  \n",
       "0     {\"seller\"=>[{\"Seller_name_1\"=>\"Amazon.co.uk\", ...  \n",
       "1     {\"seller\"=>{\"Seller_name_1\"=>\"UHD WHOLESALE\", ...  \n",
       "2     {\"seller\"=>[{\"Seller_name_1\"=>\"DEAL-BOX\", \"Sel...  \n",
       "3                                                   NaN  \n",
       "4                                                   NaN  \n",
       "...                                                 ...  \n",
       "9995  {\"seller\"=>[{\"Seller_name_1\"=>\"Star Action Fig...  \n",
       "9996                                                NaN  \n",
       "9997  {\"seller\"=>[{\"Seller_name_1\"=>\"YUK\", \"Seller_p...  \n",
       "9998  {\"seller\"=>[{\"Seller_name_1\"=>\"Smaller World F...  \n",
       "9999                                                NaN  \n",
       "\n",
       "[10000 rows x 17 columns]"
      ]
     },
     "execution_count": 2,
     "metadata": {},
     "output_type": "execute_result"
    }
   ],
   "source": [
    "df = pd.read_csv('amazon_co-ecommerce_sample.csv')\n",
    "df"
   ]
  },
  {
   "cell_type": "markdown",
   "metadata": {},
   "source": [
    "### Check Category Distribution"
   ]
  },
  {
   "cell_type": "code",
   "execution_count": 3,
   "metadata": {},
   "outputs": [
    {
     "data": {
      "text/plain": [
       "Die-Cast & Toy Vehicles > Toy Vehicles & Accessories > Scaled Models > Vehicles    880\n",
       "Figures & Playsets > Science Fiction & Fantasy                                     485\n",
       "Arts & Crafts > Children's Craft Kits > Bead Art & Jewellery-Making                368\n",
       "Characters & Brands > Disney > Toys                                                347\n",
       "Hobbies > Trading Cards & Accessories > Packs & Sets                               317\n",
       "                                                                                  ... \n",
       "Hobbies > Model Trains & Railway Sets                                                1\n",
       "Cooking & Dining > Kitchen Tools & Gadgets > Barware > Coasters                      1\n",
       "Women > Accessories > Eyewear & Accessories > Sunglasses                             1\n",
       "Hobbies > Model Trains & Railway Sets > Accessories                                  1\n",
       "Games > Drinking Games                                                               1\n",
       "Name: amazon_category_and_sub_category, Length: 255, dtype: int64"
      ]
     },
     "execution_count": 3,
     "metadata": {},
     "output_type": "execute_result"
    }
   ],
   "source": [
    "df['amazon_category_and_sub_category'].value_counts()"
   ]
  },
  {
   "cell_type": "markdown",
   "metadata": {},
   "source": [
    "# **Data Preprocessing & Feature Engineering**"
   ]
  },
  {
   "cell_type": "markdown",
   "metadata": {},
   "source": [
    "### Check Missing Value in Used Column & Drop it"
   ]
  },
  {
   "cell_type": "markdown",
   "metadata": {},
   "source": [
    "#### Column Price"
   ]
  },
  {
   "cell_type": "code",
   "execution_count": 4,
   "metadata": {},
   "outputs": [
    {
     "data": {
      "text/plain": [
       "1435"
      ]
     },
     "execution_count": 4,
     "metadata": {},
     "output_type": "execute_result"
    }
   ],
   "source": [
    "df['price'].isna().sum()"
   ]
  },
  {
   "cell_type": "code",
   "execution_count": 5,
   "metadata": {},
   "outputs": [
    {
     "data": {
      "text/plain": [
       "0"
      ]
     },
     "execution_count": 5,
     "metadata": {},
     "output_type": "execute_result"
    }
   ],
   "source": [
    "df = df.dropna(subset=['price'])\n",
    "df['price'].isna().sum()"
   ]
  },
  {
   "cell_type": "code",
   "execution_count": 6,
   "metadata": {},
   "outputs": [
    {
     "name": "stderr",
     "output_type": "stream",
     "text": [
      "C:\\Users\\AZHAR\\AppData\\Local\\Temp/ipykernel_19516/242777027.py:2: SettingWithCopyWarning: \n",
      "A value is trying to be set on a copy of a slice from a DataFrame.\n",
      "Try using .loc[row_indexer,col_indexer] = value instead\n",
      "\n",
      "See the caveats in the documentation: https://pandas.pydata.org/pandas-docs/stable/user_guide/indexing.html#returning-a-view-versus-a-copy\n",
      "  df['price'] = df['price'].apply(lambda x: float(x.replace('£','').replace(',','').split('-')[0]))\n"
     ]
    }
   ],
   "source": [
    "# Replace £123,000.20 into float\n",
    "df['price'] = df['price'].apply(lambda x: float(x.replace('£','').replace(',','').split('-')[0]))"
   ]
  },
  {
   "cell_type": "markdown",
   "metadata": {},
   "source": [
    "#### Column Sub Category"
   ]
  },
  {
   "cell_type": "code",
   "execution_count": 7,
   "metadata": {},
   "outputs": [
    {
     "data": {
      "text/plain": [
       "552"
      ]
     },
     "execution_count": 7,
     "metadata": {},
     "output_type": "execute_result"
    }
   ],
   "source": [
    "df['amazon_category_and_sub_category'].isna().sum()"
   ]
  },
  {
   "cell_type": "code",
   "execution_count": 8,
   "metadata": {},
   "outputs": [
    {
     "data": {
      "text/plain": [
       "0"
      ]
     },
     "execution_count": 8,
     "metadata": {},
     "output_type": "execute_result"
    }
   ],
   "source": [
    "df = df.dropna(subset=['amazon_category_and_sub_category'])\n",
    "df['amazon_category_and_sub_category'].isna().sum()"
   ]
  },
  {
   "cell_type": "markdown",
   "metadata": {},
   "source": [
    "##### Create Category to New Column"
   ]
  },
  {
   "cell_type": "code",
   "execution_count": 9,
   "metadata": {},
   "outputs": [],
   "source": [
    "# Example 'Hobbies > Model Trains & Railway Sets > Rail Vehicles > Trains' into 4 Column\n",
    "df['amazon_category_and_sub_category'] = df['amazon_category_and_sub_category'].apply(lambda x: list(map(str.strip, x.split('>'))))"
   ]
  },
  {
   "cell_type": "code",
   "execution_count": 10,
   "metadata": {},
   "outputs": [
    {
     "name": "stdout",
     "output_type": "stream",
     "text": [
      "Wall time: 1.74 s\n"
     ]
    }
   ],
   "source": [
    "%%time\n",
    "df = df.assign(**df.amazon_category_and_sub_category.apply(pd.Series).add_prefix('category_'))\n",
    "#df.assign(**pd.DataFrame(df.amazon_category_and_sub_category.values.tolist()).add_prefix('category_'))"
   ]
  },
  {
   "cell_type": "code",
   "execution_count": 11,
   "metadata": {},
   "outputs": [
    {
     "data": {
      "text/html": [
       "<div>\n",
       "<style scoped>\n",
       "    .dataframe tbody tr th:only-of-type {\n",
       "        vertical-align: middle;\n",
       "    }\n",
       "\n",
       "    .dataframe tbody tr th {\n",
       "        vertical-align: top;\n",
       "    }\n",
       "\n",
       "    .dataframe thead th {\n",
       "        text-align: right;\n",
       "    }\n",
       "</style>\n",
       "<table border=\"1\" class=\"dataframe\">\n",
       "  <thead>\n",
       "    <tr style=\"text-align: right;\">\n",
       "      <th></th>\n",
       "      <th>uniq_id</th>\n",
       "      <th>product_name</th>\n",
       "      <th>manufacturer</th>\n",
       "      <th>price</th>\n",
       "      <th>number_available_in_stock</th>\n",
       "      <th>number_of_reviews</th>\n",
       "      <th>number_of_answered_questions</th>\n",
       "      <th>average_review_rating</th>\n",
       "      <th>amazon_category_and_sub_category</th>\n",
       "      <th>customers_who_bought_this_item_also_bought</th>\n",
       "      <th>...</th>\n",
       "      <th>product_description</th>\n",
       "      <th>items_customers_buy_after_viewing_this_item</th>\n",
       "      <th>customer_questions_and_answers</th>\n",
       "      <th>customer_reviews</th>\n",
       "      <th>sellers</th>\n",
       "      <th>category_0</th>\n",
       "      <th>category_1</th>\n",
       "      <th>category_2</th>\n",
       "      <th>category_3</th>\n",
       "      <th>category_4</th>\n",
       "    </tr>\n",
       "  </thead>\n",
       "  <tbody>\n",
       "    <tr>\n",
       "      <th>0</th>\n",
       "      <td>eac7efa5dbd3d667f26eb3d3ab504464</td>\n",
       "      <td>Hornby 2014 Catalogue</td>\n",
       "      <td>Hornby</td>\n",
       "      <td>3.42</td>\n",
       "      <td>5 new</td>\n",
       "      <td>15</td>\n",
       "      <td>1.0</td>\n",
       "      <td>4.9 out of 5 stars</td>\n",
       "      <td>[Hobbies, Model Trains &amp; Railway Sets, Rail Ve...</td>\n",
       "      <td>http://www.amazon.co.uk/Hornby-R8150-Catalogue...</td>\n",
       "      <td>...</td>\n",
       "      <td>Product Description Hornby 2014 Catalogue Box ...</td>\n",
       "      <td>http://www.amazon.co.uk/Hornby-R8150-Catalogue...</td>\n",
       "      <td>Does this catalogue detail all the previous Ho...</td>\n",
       "      <td>Worth Buying For The Pictures Alone (As Ever) ...</td>\n",
       "      <td>{\"seller\"=&gt;[{\"Seller_name_1\"=&gt;\"Amazon.co.uk\", ...</td>\n",
       "      <td>Hobbies</td>\n",
       "      <td>Model Trains &amp; Railway Sets</td>\n",
       "      <td>Rail Vehicles</td>\n",
       "      <td>Trains</td>\n",
       "      <td>NaN</td>\n",
       "    </tr>\n",
       "    <tr>\n",
       "      <th>1</th>\n",
       "      <td>b17540ef7e86e461d37f3ae58b7b72ac</td>\n",
       "      <td>FunkyBuys® Large Christmas Holiday Express Fes...</td>\n",
       "      <td>FunkyBuys</td>\n",
       "      <td>16.99</td>\n",
       "      <td>NaN</td>\n",
       "      <td>2</td>\n",
       "      <td>1.0</td>\n",
       "      <td>4.5 out of 5 stars</td>\n",
       "      <td>[Hobbies, Model Trains &amp; Railway Sets, Rail Ve...</td>\n",
       "      <td>http://www.amazon.co.uk/Christmas-Holiday-Expr...</td>\n",
       "      <td>...</td>\n",
       "      <td>Size Name:Large FunkyBuys® Large Christmas Hol...</td>\n",
       "      <td>http://www.amazon.co.uk/Christmas-Holiday-Expr...</td>\n",
       "      <td>can you turn off sounds // hi no you cant turn...</td>\n",
       "      <td>Four Stars // 4.0 // 18 Dec. 2015 // By\\n    \\...</td>\n",
       "      <td>{\"seller\"=&gt;{\"Seller_name_1\"=&gt;\"UHD WHOLESALE\", ...</td>\n",
       "      <td>Hobbies</td>\n",
       "      <td>Model Trains &amp; Railway Sets</td>\n",
       "      <td>Rail Vehicles</td>\n",
       "      <td>Trains</td>\n",
       "      <td>NaN</td>\n",
       "    </tr>\n",
       "    <tr>\n",
       "      <th>2</th>\n",
       "      <td>348f344247b0c1a935b1223072ef9d8a</td>\n",
       "      <td>CLASSIC TOY TRAIN SET TRACK CARRIAGES LIGHT EN...</td>\n",
       "      <td>ccf</td>\n",
       "      <td>9.99</td>\n",
       "      <td>2 new</td>\n",
       "      <td>17</td>\n",
       "      <td>2.0</td>\n",
       "      <td>3.9 out of 5 stars</td>\n",
       "      <td>[Hobbies, Model Trains &amp; Railway Sets, Rail Ve...</td>\n",
       "      <td>http://www.amazon.co.uk/Classic-Train-Lights-B...</td>\n",
       "      <td>...</td>\n",
       "      <td>BIG CLASSIC TOY TRAIN SET TRACK CARRIAGE LIGHT...</td>\n",
       "      <td>http://www.amazon.co.uk/Train-With-Tracks-Batt...</td>\n",
       "      <td>What is the gauge of the track // Hi Paul.Trut...</td>\n",
       "      <td>**Highly Recommended!** // 5.0 // 26 May 2015 ...</td>\n",
       "      <td>{\"seller\"=&gt;[{\"Seller_name_1\"=&gt;\"DEAL-BOX\", \"Sel...</td>\n",
       "      <td>Hobbies</td>\n",
       "      <td>Model Trains &amp; Railway Sets</td>\n",
       "      <td>Rail Vehicles</td>\n",
       "      <td>Trains</td>\n",
       "      <td>NaN</td>\n",
       "    </tr>\n",
       "    <tr>\n",
       "      <th>3</th>\n",
       "      <td>e12b92dbb8eaee78b22965d2a9bbbd9f</td>\n",
       "      <td>HORNBY Coach R4410A BR Hawksworth Corridor 3rd</td>\n",
       "      <td>Hornby</td>\n",
       "      <td>39.99</td>\n",
       "      <td>NaN</td>\n",
       "      <td>1</td>\n",
       "      <td>2.0</td>\n",
       "      <td>5.0 out of 5 stars</td>\n",
       "      <td>[Hobbies, Model Trains &amp; Railway Sets, Rail Ve...</td>\n",
       "      <td>NaN</td>\n",
       "      <td>...</td>\n",
       "      <td>Hornby 00 Gauge BR Hawksworth 3rd Class W 2107...</td>\n",
       "      <td>NaN</td>\n",
       "      <td>NaN</td>\n",
       "      <td>I love it // 5.0 // 22 July 2013 // By\\n    \\n...</td>\n",
       "      <td>NaN</td>\n",
       "      <td>Hobbies</td>\n",
       "      <td>Model Trains &amp; Railway Sets</td>\n",
       "      <td>Rail Vehicles</td>\n",
       "      <td>Trains</td>\n",
       "      <td>NaN</td>\n",
       "    </tr>\n",
       "    <tr>\n",
       "      <th>4</th>\n",
       "      <td>e33a9adeed5f36840ccc227db4682a36</td>\n",
       "      <td>Hornby 00 Gauge 0-4-0 Gildenlow Salt Co. Steam...</td>\n",
       "      <td>Hornby</td>\n",
       "      <td>32.19</td>\n",
       "      <td>NaN</td>\n",
       "      <td>3</td>\n",
       "      <td>2.0</td>\n",
       "      <td>4.7 out of 5 stars</td>\n",
       "      <td>[Hobbies, Model Trains &amp; Railway Sets, Rail Ve...</td>\n",
       "      <td>http://www.amazon.co.uk/Hornby-R6367-RailRoad-...</td>\n",
       "      <td>...</td>\n",
       "      <td>Product Description Hornby RailRoad 0-4-0 Gild...</td>\n",
       "      <td>http://www.amazon.co.uk/Hornby-R2672-RailRoad-...</td>\n",
       "      <td>NaN</td>\n",
       "      <td>Birthday present // 5.0 // 14 April 2014 // By...</td>\n",
       "      <td>NaN</td>\n",
       "      <td>Hobbies</td>\n",
       "      <td>Model Trains &amp; Railway Sets</td>\n",
       "      <td>Rail Vehicles</td>\n",
       "      <td>Trains</td>\n",
       "      <td>NaN</td>\n",
       "    </tr>\n",
       "  </tbody>\n",
       "</table>\n",
       "<p>5 rows × 22 columns</p>\n",
       "</div>"
      ],
      "text/plain": [
       "                            uniq_id  \\\n",
       "0  eac7efa5dbd3d667f26eb3d3ab504464   \n",
       "1  b17540ef7e86e461d37f3ae58b7b72ac   \n",
       "2  348f344247b0c1a935b1223072ef9d8a   \n",
       "3  e12b92dbb8eaee78b22965d2a9bbbd9f   \n",
       "4  e33a9adeed5f36840ccc227db4682a36   \n",
       "\n",
       "                                        product_name manufacturer  price  \\\n",
       "0                              Hornby 2014 Catalogue       Hornby   3.42   \n",
       "1  FunkyBuys® Large Christmas Holiday Express Fes...    FunkyBuys  16.99   \n",
       "2  CLASSIC TOY TRAIN SET TRACK CARRIAGES LIGHT EN...          ccf   9.99   \n",
       "3     HORNBY Coach R4410A BR Hawksworth Corridor 3rd       Hornby  39.99   \n",
       "4  Hornby 00 Gauge 0-4-0 Gildenlow Salt Co. Steam...       Hornby  32.19   \n",
       "\n",
       "  number_available_in_stock number_of_reviews  number_of_answered_questions  \\\n",
       "0                     5 new                15                           1.0   \n",
       "1                       NaN                 2                           1.0   \n",
       "2                     2 new                17                           2.0   \n",
       "3                       NaN                 1                           2.0   \n",
       "4                       NaN                 3                           2.0   \n",
       "\n",
       "  average_review_rating                   amazon_category_and_sub_category  \\\n",
       "0    4.9 out of 5 stars  [Hobbies, Model Trains & Railway Sets, Rail Ve...   \n",
       "1    4.5 out of 5 stars  [Hobbies, Model Trains & Railway Sets, Rail Ve...   \n",
       "2    3.9 out of 5 stars  [Hobbies, Model Trains & Railway Sets, Rail Ve...   \n",
       "3    5.0 out of 5 stars  [Hobbies, Model Trains & Railway Sets, Rail Ve...   \n",
       "4    4.7 out of 5 stars  [Hobbies, Model Trains & Railway Sets, Rail Ve...   \n",
       "\n",
       "          customers_who_bought_this_item_also_bought  ...  \\\n",
       "0  http://www.amazon.co.uk/Hornby-R8150-Catalogue...  ...   \n",
       "1  http://www.amazon.co.uk/Christmas-Holiday-Expr...  ...   \n",
       "2  http://www.amazon.co.uk/Classic-Train-Lights-B...  ...   \n",
       "3                                                NaN  ...   \n",
       "4  http://www.amazon.co.uk/Hornby-R6367-RailRoad-...  ...   \n",
       "\n",
       "                                 product_description  \\\n",
       "0  Product Description Hornby 2014 Catalogue Box ...   \n",
       "1  Size Name:Large FunkyBuys® Large Christmas Hol...   \n",
       "2  BIG CLASSIC TOY TRAIN SET TRACK CARRIAGE LIGHT...   \n",
       "3  Hornby 00 Gauge BR Hawksworth 3rd Class W 2107...   \n",
       "4  Product Description Hornby RailRoad 0-4-0 Gild...   \n",
       "\n",
       "         items_customers_buy_after_viewing_this_item  \\\n",
       "0  http://www.amazon.co.uk/Hornby-R8150-Catalogue...   \n",
       "1  http://www.amazon.co.uk/Christmas-Holiday-Expr...   \n",
       "2  http://www.amazon.co.uk/Train-With-Tracks-Batt...   \n",
       "3                                                NaN   \n",
       "4  http://www.amazon.co.uk/Hornby-R2672-RailRoad-...   \n",
       "\n",
       "                      customer_questions_and_answers  \\\n",
       "0  Does this catalogue detail all the previous Ho...   \n",
       "1  can you turn off sounds // hi no you cant turn...   \n",
       "2  What is the gauge of the track // Hi Paul.Trut...   \n",
       "3                                                NaN   \n",
       "4                                                NaN   \n",
       "\n",
       "                                    customer_reviews  \\\n",
       "0  Worth Buying For The Pictures Alone (As Ever) ...   \n",
       "1  Four Stars // 4.0 // 18 Dec. 2015 // By\\n    \\...   \n",
       "2  **Highly Recommended!** // 5.0 // 26 May 2015 ...   \n",
       "3  I love it // 5.0 // 22 July 2013 // By\\n    \\n...   \n",
       "4  Birthday present // 5.0 // 14 April 2014 // By...   \n",
       "\n",
       "                                             sellers category_0  \\\n",
       "0  {\"seller\"=>[{\"Seller_name_1\"=>\"Amazon.co.uk\", ...    Hobbies   \n",
       "1  {\"seller\"=>{\"Seller_name_1\"=>\"UHD WHOLESALE\", ...    Hobbies   \n",
       "2  {\"seller\"=>[{\"Seller_name_1\"=>\"DEAL-BOX\", \"Sel...    Hobbies   \n",
       "3                                                NaN    Hobbies   \n",
       "4                                                NaN    Hobbies   \n",
       "\n",
       "                    category_1     category_2 category_3 category_4  \n",
       "0  Model Trains & Railway Sets  Rail Vehicles     Trains        NaN  \n",
       "1  Model Trains & Railway Sets  Rail Vehicles     Trains        NaN  \n",
       "2  Model Trains & Railway Sets  Rail Vehicles     Trains        NaN  \n",
       "3  Model Trains & Railway Sets  Rail Vehicles     Trains        NaN  \n",
       "4  Model Trains & Railway Sets  Rail Vehicles     Trains        NaN  \n",
       "\n",
       "[5 rows x 22 columns]"
      ]
     },
     "execution_count": 11,
     "metadata": {},
     "output_type": "execute_result"
    }
   ],
   "source": [
    "# Showed Category 0 - Category 4\n",
    "df.head()"
   ]
  },
  {
   "cell_type": "markdown",
   "metadata": {},
   "source": [
    "#### Column Product Information / Description"
   ]
  },
  {
   "cell_type": "code",
   "execution_count": 12,
   "metadata": {},
   "outputs": [
    {
     "data": {
      "text/plain": [
       "52"
      ]
     },
     "execution_count": 12,
     "metadata": {},
     "output_type": "execute_result"
    }
   ],
   "source": [
    "df['product_information'].isna().sum()"
   ]
  },
  {
   "cell_type": "code",
   "execution_count": 13,
   "metadata": {},
   "outputs": [
    {
     "data": {
      "text/plain": [
       "0"
      ]
     },
     "execution_count": 13,
     "metadata": {},
     "output_type": "execute_result"
    }
   ],
   "source": [
    "df = df.dropna(subset=['product_information'])\n",
    "df['product_information'].isna().sum()"
   ]
  },
  {
   "cell_type": "markdown",
   "metadata": {},
   "source": [
    "### Final Shape"
   ]
  },
  {
   "cell_type": "code",
   "execution_count": 14,
   "metadata": {},
   "outputs": [
    {
     "data": {
      "text/plain": [
       "(7961, 22)"
      ]
     },
     "execution_count": 14,
     "metadata": {},
     "output_type": "execute_result"
    }
   ],
   "source": [
    "df.shape"
   ]
  },
  {
   "cell_type": "code",
   "execution_count": 15,
   "metadata": {},
   "outputs": [
    {
     "name": "stdout",
     "output_type": "stream",
     "text": [
      "<class 'pandas.core.frame.DataFrame'>\n",
      "Int64Index: 7961 entries, 0 to 9999\n",
      "Data columns (total 22 columns):\n",
      " #   Column                                       Non-Null Count  Dtype  \n",
      "---  ------                                       --------------  -----  \n",
      " 0   uniq_id                                      7961 non-null   object \n",
      " 1   product_name                                 7961 non-null   object \n",
      " 2   manufacturer                                 7958 non-null   object \n",
      " 3   price                                        7961 non-null   float64\n",
      " 4   number_available_in_stock                    5894 non-null   object \n",
      " 5   number_of_reviews                            7951 non-null   object \n",
      " 6   number_of_answered_questions                 7329 non-null   float64\n",
      " 7   average_review_rating                        7951 non-null   object \n",
      " 8   amazon_category_and_sub_category             7961 non-null   object \n",
      " 9   customers_who_bought_this_item_also_bought   7075 non-null   object \n",
      " 10  description                                  7434 non-null   object \n",
      " 11  product_information                          7961 non-null   object \n",
      " 12  product_description                          7434 non-null   object \n",
      " 13  items_customers_buy_after_viewing_this_item  5448 non-null   object \n",
      " 14  customer_questions_and_answers               752 non-null    object \n",
      " 15  customer_reviews                             7949 non-null   object \n",
      " 16  sellers                                      5623 non-null   object \n",
      " 17  category_0                                   7961 non-null   object \n",
      " 18  category_1                                   7961 non-null   object \n",
      " 19  category_2                                   4689 non-null   object \n",
      " 20  category_3                                   1219 non-null   object \n",
      " 21  category_4                                   75 non-null     object \n",
      "dtypes: float64(2), object(20)\n",
      "memory usage: 1.4+ MB\n"
     ]
    }
   ],
   "source": [
    "df.info()"
   ]
  },
  {
   "cell_type": "code",
   "execution_count": 16,
   "metadata": {},
   "outputs": [
    {
     "data": {
      "text/html": [
       "<div>\n",
       "<style scoped>\n",
       "    .dataframe tbody tr th:only-of-type {\n",
       "        vertical-align: middle;\n",
       "    }\n",
       "\n",
       "    .dataframe tbody tr th {\n",
       "        vertical-align: top;\n",
       "    }\n",
       "\n",
       "    .dataframe thead th {\n",
       "        text-align: right;\n",
       "    }\n",
       "</style>\n",
       "<table border=\"1\" class=\"dataframe\">\n",
       "  <thead>\n",
       "    <tr style=\"text-align: right;\">\n",
       "      <th></th>\n",
       "      <th>uniq_id</th>\n",
       "      <th>product_name</th>\n",
       "      <th>manufacturer</th>\n",
       "      <th>price</th>\n",
       "      <th>number_available_in_stock</th>\n",
       "      <th>number_of_reviews</th>\n",
       "      <th>number_of_answered_questions</th>\n",
       "      <th>average_review_rating</th>\n",
       "      <th>amazon_category_and_sub_category</th>\n",
       "      <th>customers_who_bought_this_item_also_bought</th>\n",
       "      <th>...</th>\n",
       "      <th>product_description</th>\n",
       "      <th>items_customers_buy_after_viewing_this_item</th>\n",
       "      <th>customer_questions_and_answers</th>\n",
       "      <th>customer_reviews</th>\n",
       "      <th>sellers</th>\n",
       "      <th>category_0</th>\n",
       "      <th>category_1</th>\n",
       "      <th>category_2</th>\n",
       "      <th>category_3</th>\n",
       "      <th>category_4</th>\n",
       "    </tr>\n",
       "  </thead>\n",
       "  <tbody>\n",
       "    <tr>\n",
       "      <th>0</th>\n",
       "      <td>eac7efa5dbd3d667f26eb3d3ab504464</td>\n",
       "      <td>Hornby 2014 Catalogue</td>\n",
       "      <td>Hornby</td>\n",
       "      <td>3.42</td>\n",
       "      <td>5 new</td>\n",
       "      <td>15</td>\n",
       "      <td>1.0</td>\n",
       "      <td>4.9 out of 5 stars</td>\n",
       "      <td>[Hobbies, Model Trains &amp; Railway Sets, Rail Ve...</td>\n",
       "      <td>http://www.amazon.co.uk/Hornby-R8150-Catalogue...</td>\n",
       "      <td>...</td>\n",
       "      <td>Product Description Hornby 2014 Catalogue Box ...</td>\n",
       "      <td>http://www.amazon.co.uk/Hornby-R8150-Catalogue...</td>\n",
       "      <td>Does this catalogue detail all the previous Ho...</td>\n",
       "      <td>Worth Buying For The Pictures Alone (As Ever) ...</td>\n",
       "      <td>{\"seller\"=&gt;[{\"Seller_name_1\"=&gt;\"Amazon.co.uk\", ...</td>\n",
       "      <td>Hobbies</td>\n",
       "      <td>Model Trains &amp; Railway Sets</td>\n",
       "      <td>Rail Vehicles</td>\n",
       "      <td>Trains</td>\n",
       "      <td>NaN</td>\n",
       "    </tr>\n",
       "    <tr>\n",
       "      <th>1</th>\n",
       "      <td>b17540ef7e86e461d37f3ae58b7b72ac</td>\n",
       "      <td>FunkyBuys® Large Christmas Holiday Express Fes...</td>\n",
       "      <td>FunkyBuys</td>\n",
       "      <td>16.99</td>\n",
       "      <td>NaN</td>\n",
       "      <td>2</td>\n",
       "      <td>1.0</td>\n",
       "      <td>4.5 out of 5 stars</td>\n",
       "      <td>[Hobbies, Model Trains &amp; Railway Sets, Rail Ve...</td>\n",
       "      <td>http://www.amazon.co.uk/Christmas-Holiday-Expr...</td>\n",
       "      <td>...</td>\n",
       "      <td>Size Name:Large FunkyBuys® Large Christmas Hol...</td>\n",
       "      <td>http://www.amazon.co.uk/Christmas-Holiday-Expr...</td>\n",
       "      <td>can you turn off sounds // hi no you cant turn...</td>\n",
       "      <td>Four Stars // 4.0 // 18 Dec. 2015 // By\\n    \\...</td>\n",
       "      <td>{\"seller\"=&gt;{\"Seller_name_1\"=&gt;\"UHD WHOLESALE\", ...</td>\n",
       "      <td>Hobbies</td>\n",
       "      <td>Model Trains &amp; Railway Sets</td>\n",
       "      <td>Rail Vehicles</td>\n",
       "      <td>Trains</td>\n",
       "      <td>NaN</td>\n",
       "    </tr>\n",
       "    <tr>\n",
       "      <th>2</th>\n",
       "      <td>348f344247b0c1a935b1223072ef9d8a</td>\n",
       "      <td>CLASSIC TOY TRAIN SET TRACK CARRIAGES LIGHT EN...</td>\n",
       "      <td>ccf</td>\n",
       "      <td>9.99</td>\n",
       "      <td>2 new</td>\n",
       "      <td>17</td>\n",
       "      <td>2.0</td>\n",
       "      <td>3.9 out of 5 stars</td>\n",
       "      <td>[Hobbies, Model Trains &amp; Railway Sets, Rail Ve...</td>\n",
       "      <td>http://www.amazon.co.uk/Classic-Train-Lights-B...</td>\n",
       "      <td>...</td>\n",
       "      <td>BIG CLASSIC TOY TRAIN SET TRACK CARRIAGE LIGHT...</td>\n",
       "      <td>http://www.amazon.co.uk/Train-With-Tracks-Batt...</td>\n",
       "      <td>What is the gauge of the track // Hi Paul.Trut...</td>\n",
       "      <td>**Highly Recommended!** // 5.0 // 26 May 2015 ...</td>\n",
       "      <td>{\"seller\"=&gt;[{\"Seller_name_1\"=&gt;\"DEAL-BOX\", \"Sel...</td>\n",
       "      <td>Hobbies</td>\n",
       "      <td>Model Trains &amp; Railway Sets</td>\n",
       "      <td>Rail Vehicles</td>\n",
       "      <td>Trains</td>\n",
       "      <td>NaN</td>\n",
       "    </tr>\n",
       "    <tr>\n",
       "      <th>3</th>\n",
       "      <td>e12b92dbb8eaee78b22965d2a9bbbd9f</td>\n",
       "      <td>HORNBY Coach R4410A BR Hawksworth Corridor 3rd</td>\n",
       "      <td>Hornby</td>\n",
       "      <td>39.99</td>\n",
       "      <td>NaN</td>\n",
       "      <td>1</td>\n",
       "      <td>2.0</td>\n",
       "      <td>5.0 out of 5 stars</td>\n",
       "      <td>[Hobbies, Model Trains &amp; Railway Sets, Rail Ve...</td>\n",
       "      <td>NaN</td>\n",
       "      <td>...</td>\n",
       "      <td>Hornby 00 Gauge BR Hawksworth 3rd Class W 2107...</td>\n",
       "      <td>NaN</td>\n",
       "      <td>NaN</td>\n",
       "      <td>I love it // 5.0 // 22 July 2013 // By\\n    \\n...</td>\n",
       "      <td>NaN</td>\n",
       "      <td>Hobbies</td>\n",
       "      <td>Model Trains &amp; Railway Sets</td>\n",
       "      <td>Rail Vehicles</td>\n",
       "      <td>Trains</td>\n",
       "      <td>NaN</td>\n",
       "    </tr>\n",
       "    <tr>\n",
       "      <th>4</th>\n",
       "      <td>e33a9adeed5f36840ccc227db4682a36</td>\n",
       "      <td>Hornby 00 Gauge 0-4-0 Gildenlow Salt Co. Steam...</td>\n",
       "      <td>Hornby</td>\n",
       "      <td>32.19</td>\n",
       "      <td>NaN</td>\n",
       "      <td>3</td>\n",
       "      <td>2.0</td>\n",
       "      <td>4.7 out of 5 stars</td>\n",
       "      <td>[Hobbies, Model Trains &amp; Railway Sets, Rail Ve...</td>\n",
       "      <td>http://www.amazon.co.uk/Hornby-R6367-RailRoad-...</td>\n",
       "      <td>...</td>\n",
       "      <td>Product Description Hornby RailRoad 0-4-0 Gild...</td>\n",
       "      <td>http://www.amazon.co.uk/Hornby-R2672-RailRoad-...</td>\n",
       "      <td>NaN</td>\n",
       "      <td>Birthday present // 5.0 // 14 April 2014 // By...</td>\n",
       "      <td>NaN</td>\n",
       "      <td>Hobbies</td>\n",
       "      <td>Model Trains &amp; Railway Sets</td>\n",
       "      <td>Rail Vehicles</td>\n",
       "      <td>Trains</td>\n",
       "      <td>NaN</td>\n",
       "    </tr>\n",
       "  </tbody>\n",
       "</table>\n",
       "<p>5 rows × 22 columns</p>\n",
       "</div>"
      ],
      "text/plain": [
       "                            uniq_id  \\\n",
       "0  eac7efa5dbd3d667f26eb3d3ab504464   \n",
       "1  b17540ef7e86e461d37f3ae58b7b72ac   \n",
       "2  348f344247b0c1a935b1223072ef9d8a   \n",
       "3  e12b92dbb8eaee78b22965d2a9bbbd9f   \n",
       "4  e33a9adeed5f36840ccc227db4682a36   \n",
       "\n",
       "                                        product_name manufacturer  price  \\\n",
       "0                              Hornby 2014 Catalogue       Hornby   3.42   \n",
       "1  FunkyBuys® Large Christmas Holiday Express Fes...    FunkyBuys  16.99   \n",
       "2  CLASSIC TOY TRAIN SET TRACK CARRIAGES LIGHT EN...          ccf   9.99   \n",
       "3     HORNBY Coach R4410A BR Hawksworth Corridor 3rd       Hornby  39.99   \n",
       "4  Hornby 00 Gauge 0-4-0 Gildenlow Salt Co. Steam...       Hornby  32.19   \n",
       "\n",
       "  number_available_in_stock number_of_reviews  number_of_answered_questions  \\\n",
       "0                     5 new                15                           1.0   \n",
       "1                       NaN                 2                           1.0   \n",
       "2                     2 new                17                           2.0   \n",
       "3                       NaN                 1                           2.0   \n",
       "4                       NaN                 3                           2.0   \n",
       "\n",
       "  average_review_rating                   amazon_category_and_sub_category  \\\n",
       "0    4.9 out of 5 stars  [Hobbies, Model Trains & Railway Sets, Rail Ve...   \n",
       "1    4.5 out of 5 stars  [Hobbies, Model Trains & Railway Sets, Rail Ve...   \n",
       "2    3.9 out of 5 stars  [Hobbies, Model Trains & Railway Sets, Rail Ve...   \n",
       "3    5.0 out of 5 stars  [Hobbies, Model Trains & Railway Sets, Rail Ve...   \n",
       "4    4.7 out of 5 stars  [Hobbies, Model Trains & Railway Sets, Rail Ve...   \n",
       "\n",
       "          customers_who_bought_this_item_also_bought  ...  \\\n",
       "0  http://www.amazon.co.uk/Hornby-R8150-Catalogue...  ...   \n",
       "1  http://www.amazon.co.uk/Christmas-Holiday-Expr...  ...   \n",
       "2  http://www.amazon.co.uk/Classic-Train-Lights-B...  ...   \n",
       "3                                                NaN  ...   \n",
       "4  http://www.amazon.co.uk/Hornby-R6367-RailRoad-...  ...   \n",
       "\n",
       "                                 product_description  \\\n",
       "0  Product Description Hornby 2014 Catalogue Box ...   \n",
       "1  Size Name:Large FunkyBuys® Large Christmas Hol...   \n",
       "2  BIG CLASSIC TOY TRAIN SET TRACK CARRIAGE LIGHT...   \n",
       "3  Hornby 00 Gauge BR Hawksworth 3rd Class W 2107...   \n",
       "4  Product Description Hornby RailRoad 0-4-0 Gild...   \n",
       "\n",
       "         items_customers_buy_after_viewing_this_item  \\\n",
       "0  http://www.amazon.co.uk/Hornby-R8150-Catalogue...   \n",
       "1  http://www.amazon.co.uk/Christmas-Holiday-Expr...   \n",
       "2  http://www.amazon.co.uk/Train-With-Tracks-Batt...   \n",
       "3                                                NaN   \n",
       "4  http://www.amazon.co.uk/Hornby-R2672-RailRoad-...   \n",
       "\n",
       "                      customer_questions_and_answers  \\\n",
       "0  Does this catalogue detail all the previous Ho...   \n",
       "1  can you turn off sounds // hi no you cant turn...   \n",
       "2  What is the gauge of the track // Hi Paul.Trut...   \n",
       "3                                                NaN   \n",
       "4                                                NaN   \n",
       "\n",
       "                                    customer_reviews  \\\n",
       "0  Worth Buying For The Pictures Alone (As Ever) ...   \n",
       "1  Four Stars // 4.0 // 18 Dec. 2015 // By\\n    \\...   \n",
       "2  **Highly Recommended!** // 5.0 // 26 May 2015 ...   \n",
       "3  I love it // 5.0 // 22 July 2013 // By\\n    \\n...   \n",
       "4  Birthday present // 5.0 // 14 April 2014 // By...   \n",
       "\n",
       "                                             sellers category_0  \\\n",
       "0  {\"seller\"=>[{\"Seller_name_1\"=>\"Amazon.co.uk\", ...    Hobbies   \n",
       "1  {\"seller\"=>{\"Seller_name_1\"=>\"UHD WHOLESALE\", ...    Hobbies   \n",
       "2  {\"seller\"=>[{\"Seller_name_1\"=>\"DEAL-BOX\", \"Sel...    Hobbies   \n",
       "3                                                NaN    Hobbies   \n",
       "4                                                NaN    Hobbies   \n",
       "\n",
       "                    category_1     category_2 category_3 category_4  \n",
       "0  Model Trains & Railway Sets  Rail Vehicles     Trains        NaN  \n",
       "1  Model Trains & Railway Sets  Rail Vehicles     Trains        NaN  \n",
       "2  Model Trains & Railway Sets  Rail Vehicles     Trains        NaN  \n",
       "3  Model Trains & Railway Sets  Rail Vehicles     Trains        NaN  \n",
       "4  Model Trains & Railway Sets  Rail Vehicles     Trains        NaN  \n",
       "\n",
       "[5 rows x 22 columns]"
      ]
     },
     "execution_count": 16,
     "metadata": {},
     "output_type": "execute_result"
    }
   ],
   "source": [
    "df.head()"
   ]
  },
  {
   "cell_type": "markdown",
   "metadata": {},
   "source": [
    "### Select Only Used Columns"
   ]
  },
  {
   "cell_type": "code",
   "execution_count": 17,
   "metadata": {},
   "outputs": [
    {
     "data": {
      "text/html": [
       "<div>\n",
       "<style scoped>\n",
       "    .dataframe tbody tr th:only-of-type {\n",
       "        vertical-align: middle;\n",
       "    }\n",
       "\n",
       "    .dataframe tbody tr th {\n",
       "        vertical-align: top;\n",
       "    }\n",
       "\n",
       "    .dataframe thead th {\n",
       "        text-align: right;\n",
       "    }\n",
       "</style>\n",
       "<table border=\"1\" class=\"dataframe\">\n",
       "  <thead>\n",
       "    <tr style=\"text-align: right;\">\n",
       "      <th></th>\n",
       "      <th>product_name</th>\n",
       "      <th>price</th>\n",
       "      <th>product_information</th>\n",
       "      <th>category_1</th>\n",
       "    </tr>\n",
       "  </thead>\n",
       "  <tbody>\n",
       "    <tr>\n",
       "      <th>0</th>\n",
       "      <td>Hornby 2014 Catalogue</td>\n",
       "      <td>3.42</td>\n",
       "      <td>Technical Details Item Weight640 g Product Dim...</td>\n",
       "      <td>Model Trains &amp; Railway Sets</td>\n",
       "    </tr>\n",
       "    <tr>\n",
       "      <th>1</th>\n",
       "      <td>FunkyBuys® Large Christmas Holiday Express Fes...</td>\n",
       "      <td>16.99</td>\n",
       "      <td>Technical Details Manufacturer recommended age...</td>\n",
       "      <td>Model Trains &amp; Railway Sets</td>\n",
       "    </tr>\n",
       "    <tr>\n",
       "      <th>2</th>\n",
       "      <td>CLASSIC TOY TRAIN SET TRACK CARRIAGES LIGHT EN...</td>\n",
       "      <td>9.99</td>\n",
       "      <td>Technical Details Manufacturer recommended age...</td>\n",
       "      <td>Model Trains &amp; Railway Sets</td>\n",
       "    </tr>\n",
       "    <tr>\n",
       "      <th>3</th>\n",
       "      <td>HORNBY Coach R4410A BR Hawksworth Corridor 3rd</td>\n",
       "      <td>39.99</td>\n",
       "      <td>Technical Details Item Weight259 g Product Dim...</td>\n",
       "      <td>Model Trains &amp; Railway Sets</td>\n",
       "    </tr>\n",
       "    <tr>\n",
       "      <th>4</th>\n",
       "      <td>Hornby 00 Gauge 0-4-0 Gildenlow Salt Co. Steam...</td>\n",
       "      <td>32.19</td>\n",
       "      <td>Technical Details Item Weight159 g Product Dim...</td>\n",
       "      <td>Model Trains &amp; Railway Sets</td>\n",
       "    </tr>\n",
       "    <tr>\n",
       "      <th>...</th>\n",
       "      <td>...</td>\n",
       "      <td>...</td>\n",
       "      <td>...</td>\n",
       "      <td>...</td>\n",
       "    </tr>\n",
       "    <tr>\n",
       "      <th>9995</th>\n",
       "      <td>Batman 1966 TV Series Action Figures - The Rid...</td>\n",
       "      <td>22.95</td>\n",
       "      <td>Technical Details Item Weight136 g Product Dim...</td>\n",
       "      <td>Collectible Figures &amp; Memorabilia</td>\n",
       "    </tr>\n",
       "    <tr>\n",
       "      <th>9996</th>\n",
       "      <td>Star Wars Costume, Kids Stormtrooper Costume S...</td>\n",
       "      <td>39.99</td>\n",
       "      <td>Technical Details    Additional Information AS...</td>\n",
       "      <td>Star Wars</td>\n",
       "    </tr>\n",
       "    <tr>\n",
       "      <th>9997</th>\n",
       "      <td>Defiance Lawkeeper Metal Badge Prop Replica</td>\n",
       "      <td>43.99</td>\n",
       "      <td>Technical Details Item Weight159 g Product Dim...</td>\n",
       "      <td>Novelty</td>\n",
       "    </tr>\n",
       "    <tr>\n",
       "      <th>9998</th>\n",
       "      <td>Justice League of America Series 3 Green Lante...</td>\n",
       "      <td>49.81</td>\n",
       "      <td>Technical Details Item Weight181 g Product Dim...</td>\n",
       "      <td>Collectible Figures &amp; Memorabilia</td>\n",
       "    </tr>\n",
       "    <tr>\n",
       "      <th>9999</th>\n",
       "      <td>Star Wars 1/72 Y-Wing Starfighter</td>\n",
       "      <td>21.20</td>\n",
       "      <td>Technical Details Item Weight299 g Product Dim...</td>\n",
       "      <td>Star Wars</td>\n",
       "    </tr>\n",
       "  </tbody>\n",
       "</table>\n",
       "<p>7961 rows × 4 columns</p>\n",
       "</div>"
      ],
      "text/plain": [
       "                                           product_name  price  \\\n",
       "0                                 Hornby 2014 Catalogue   3.42   \n",
       "1     FunkyBuys® Large Christmas Holiday Express Fes...  16.99   \n",
       "2     CLASSIC TOY TRAIN SET TRACK CARRIAGES LIGHT EN...   9.99   \n",
       "3        HORNBY Coach R4410A BR Hawksworth Corridor 3rd  39.99   \n",
       "4     Hornby 00 Gauge 0-4-0 Gildenlow Salt Co. Steam...  32.19   \n",
       "...                                                 ...    ...   \n",
       "9995  Batman 1966 TV Series Action Figures - The Rid...  22.95   \n",
       "9996  Star Wars Costume, Kids Stormtrooper Costume S...  39.99   \n",
       "9997        Defiance Lawkeeper Metal Badge Prop Replica  43.99   \n",
       "9998  Justice League of America Series 3 Green Lante...  49.81   \n",
       "9999                  Star Wars 1/72 Y-Wing Starfighter  21.20   \n",
       "\n",
       "                                    product_information  \\\n",
       "0     Technical Details Item Weight640 g Product Dim...   \n",
       "1     Technical Details Manufacturer recommended age...   \n",
       "2     Technical Details Manufacturer recommended age...   \n",
       "3     Technical Details Item Weight259 g Product Dim...   \n",
       "4     Technical Details Item Weight159 g Product Dim...   \n",
       "...                                                 ...   \n",
       "9995  Technical Details Item Weight136 g Product Dim...   \n",
       "9996  Technical Details    Additional Information AS...   \n",
       "9997  Technical Details Item Weight159 g Product Dim...   \n",
       "9998  Technical Details Item Weight181 g Product Dim...   \n",
       "9999  Technical Details Item Weight299 g Product Dim...   \n",
       "\n",
       "                             category_1  \n",
       "0           Model Trains & Railway Sets  \n",
       "1           Model Trains & Railway Sets  \n",
       "2           Model Trains & Railway Sets  \n",
       "3           Model Trains & Railway Sets  \n",
       "4           Model Trains & Railway Sets  \n",
       "...                                 ...  \n",
       "9995  Collectible Figures & Memorabilia  \n",
       "9996                          Star Wars  \n",
       "9997                            Novelty  \n",
       "9998  Collectible Figures & Memorabilia  \n",
       "9999                          Star Wars  \n",
       "\n",
       "[7961 rows x 4 columns]"
      ]
     },
     "execution_count": 17,
     "metadata": {},
     "output_type": "execute_result"
    }
   ],
   "source": [
    "df = df[['product_name', 'price', 'product_information', 'category_1']]\n",
    "df"
   ]
  },
  {
   "cell_type": "markdown",
   "metadata": {},
   "source": [
    "### Concat All Used Columns"
   ]
  },
  {
   "cell_type": "code",
   "execution_count": 18,
   "metadata": {},
   "outputs": [
    {
     "data": {
      "text/plain": [
       "0       price: 3.42 category: Model Trains & Railway S...\n",
       "1       price: 16.99 category: Model Trains & Railway ...\n",
       "2       price: 9.99 category: Model Trains & Railway S...\n",
       "3       price: 39.99 category: Model Trains & Railway ...\n",
       "4       price: 32.19 category: Model Trains & Railway ...\n",
       "                              ...                        \n",
       "9995    price: 22.95 category: Collectible Figures & M...\n",
       "9996    price: 39.99 category: Star Wars product name:...\n",
       "9997    price: 43.99 category: Novelty product name: D...\n",
       "9998    price: 49.81 category: Collectible Figures & M...\n",
       "9999    price: 21.2 category: Star Wars product name: ...\n",
       "Name: content, Length: 7961, dtype: object"
      ]
     },
     "execution_count": 18,
     "metadata": {},
     "output_type": "execute_result"
    }
   ],
   "source": [
    "df['content'] = df.agg(lambda x: f\"price: {x['price']} category: {x['category_1']} product name: {x['product_name']} desc: {x['product_information']}\", axis=1)\n",
    "df['content']"
   ]
  },
  {
   "cell_type": "code",
   "execution_count": 19,
   "metadata": {},
   "outputs": [
    {
     "data": {
      "text/html": [
       "<div>\n",
       "<style scoped>\n",
       "    .dataframe tbody tr th:only-of-type {\n",
       "        vertical-align: middle;\n",
       "    }\n",
       "\n",
       "    .dataframe tbody tr th {\n",
       "        vertical-align: top;\n",
       "    }\n",
       "\n",
       "    .dataframe thead th {\n",
       "        text-align: right;\n",
       "    }\n",
       "</style>\n",
       "<table border=\"1\" class=\"dataframe\">\n",
       "  <thead>\n",
       "    <tr style=\"text-align: right;\">\n",
       "      <th></th>\n",
       "      <th>product_name</th>\n",
       "      <th>price</th>\n",
       "      <th>product_information</th>\n",
       "      <th>category_1</th>\n",
       "      <th>content</th>\n",
       "    </tr>\n",
       "  </thead>\n",
       "  <tbody>\n",
       "    <tr>\n",
       "      <th>0</th>\n",
       "      <td>Hornby 2014 Catalogue</td>\n",
       "      <td>3.42</td>\n",
       "      <td>Technical Details Item Weight640 g Product Dim...</td>\n",
       "      <td>Model Trains &amp; Railway Sets</td>\n",
       "      <td>price: 3.42 category: Model Trains &amp; Railway S...</td>\n",
       "    </tr>\n",
       "    <tr>\n",
       "      <th>1</th>\n",
       "      <td>FunkyBuys® Large Christmas Holiday Express Fes...</td>\n",
       "      <td>16.99</td>\n",
       "      <td>Technical Details Manufacturer recommended age...</td>\n",
       "      <td>Model Trains &amp; Railway Sets</td>\n",
       "      <td>price: 16.99 category: Model Trains &amp; Railway ...</td>\n",
       "    </tr>\n",
       "    <tr>\n",
       "      <th>2</th>\n",
       "      <td>CLASSIC TOY TRAIN SET TRACK CARRIAGES LIGHT EN...</td>\n",
       "      <td>9.99</td>\n",
       "      <td>Technical Details Manufacturer recommended age...</td>\n",
       "      <td>Model Trains &amp; Railway Sets</td>\n",
       "      <td>price: 9.99 category: Model Trains &amp; Railway S...</td>\n",
       "    </tr>\n",
       "    <tr>\n",
       "      <th>3</th>\n",
       "      <td>HORNBY Coach R4410A BR Hawksworth Corridor 3rd</td>\n",
       "      <td>39.99</td>\n",
       "      <td>Technical Details Item Weight259 g Product Dim...</td>\n",
       "      <td>Model Trains &amp; Railway Sets</td>\n",
       "      <td>price: 39.99 category: Model Trains &amp; Railway ...</td>\n",
       "    </tr>\n",
       "    <tr>\n",
       "      <th>4</th>\n",
       "      <td>Hornby 00 Gauge 0-4-0 Gildenlow Salt Co. Steam...</td>\n",
       "      <td>32.19</td>\n",
       "      <td>Technical Details Item Weight159 g Product Dim...</td>\n",
       "      <td>Model Trains &amp; Railway Sets</td>\n",
       "      <td>price: 32.19 category: Model Trains &amp; Railway ...</td>\n",
       "    </tr>\n",
       "  </tbody>\n",
       "</table>\n",
       "</div>"
      ],
      "text/plain": [
       "                                        product_name  price  \\\n",
       "0                              Hornby 2014 Catalogue   3.42   \n",
       "1  FunkyBuys® Large Christmas Holiday Express Fes...  16.99   \n",
       "2  CLASSIC TOY TRAIN SET TRACK CARRIAGES LIGHT EN...   9.99   \n",
       "3     HORNBY Coach R4410A BR Hawksworth Corridor 3rd  39.99   \n",
       "4  Hornby 00 Gauge 0-4-0 Gildenlow Salt Co. Steam...  32.19   \n",
       "\n",
       "                                 product_information  \\\n",
       "0  Technical Details Item Weight640 g Product Dim...   \n",
       "1  Technical Details Manufacturer recommended age...   \n",
       "2  Technical Details Manufacturer recommended age...   \n",
       "3  Technical Details Item Weight259 g Product Dim...   \n",
       "4  Technical Details Item Weight159 g Product Dim...   \n",
       "\n",
       "                    category_1  \\\n",
       "0  Model Trains & Railway Sets   \n",
       "1  Model Trains & Railway Sets   \n",
       "2  Model Trains & Railway Sets   \n",
       "3  Model Trains & Railway Sets   \n",
       "4  Model Trains & Railway Sets   \n",
       "\n",
       "                                             content  \n",
       "0  price: 3.42 category: Model Trains & Railway S...  \n",
       "1  price: 16.99 category: Model Trains & Railway ...  \n",
       "2  price: 9.99 category: Model Trains & Railway S...  \n",
       "3  price: 39.99 category: Model Trains & Railway ...  \n",
       "4  price: 32.19 category: Model Trains & Railway ...  "
      ]
     },
     "execution_count": 19,
     "metadata": {},
     "output_type": "execute_result"
    }
   ],
   "source": [
    "df.head()"
   ]
  },
  {
   "cell_type": "markdown",
   "metadata": {},
   "source": [
    "### Train Test Split"
   ]
  },
  {
   "cell_type": "code",
   "execution_count": 20,
   "metadata": {},
   "outputs": [],
   "source": [
    "df_train, df_test = train_test_split(df, test_size=0.1,random_state=28)"
   ]
  },
  {
   "cell_type": "code",
   "execution_count": 21,
   "metadata": {},
   "outputs": [
    {
     "data": {
      "text/html": [
       "<div>\n",
       "<style scoped>\n",
       "    .dataframe tbody tr th:only-of-type {\n",
       "        vertical-align: middle;\n",
       "    }\n",
       "\n",
       "    .dataframe tbody tr th {\n",
       "        vertical-align: top;\n",
       "    }\n",
       "\n",
       "    .dataframe thead th {\n",
       "        text-align: right;\n",
       "    }\n",
       "</style>\n",
       "<table border=\"1\" class=\"dataframe\">\n",
       "  <thead>\n",
       "    <tr style=\"text-align: right;\">\n",
       "      <th></th>\n",
       "      <th>product_name</th>\n",
       "      <th>price</th>\n",
       "      <th>product_information</th>\n",
       "      <th>category_1</th>\n",
       "      <th>content</th>\n",
       "    </tr>\n",
       "  </thead>\n",
       "  <tbody>\n",
       "    <tr>\n",
       "      <th>6382</th>\n",
       "      <td>Playmobil 5103 Bear with Caveman</td>\n",
       "      <td>14.64</td>\n",
       "      <td>Technical Details Item Weight399 g Product Dim...</td>\n",
       "      <td>Science Fiction &amp; Fantasy</td>\n",
       "      <td>price: 14.64 category: Science Fiction &amp; Fanta...</td>\n",
       "    </tr>\n",
       "    <tr>\n",
       "      <th>7276</th>\n",
       "      <td>Hardwood Wall Mounted Flag Pole</td>\n",
       "      <td>20.99</td>\n",
       "      <td>Technical Details Item Weight898 g Product Dim...</td>\n",
       "      <td>Kites &amp; Flight Toys</td>\n",
       "      <td>price: 20.99 category: Kites &amp; Flight Toys pro...</td>\n",
       "    </tr>\n",
       "    <tr>\n",
       "      <th>3150</th>\n",
       "      <td>Monsters Inc Monsters University Party Invitat...</td>\n",
       "      <td>1.49</td>\n",
       "      <td>Technical Details Manufacturer recommended age...</td>\n",
       "      <td>Disney</td>\n",
       "      <td>price: 1.49 category: Disney product name: Mon...</td>\n",
       "    </tr>\n",
       "    <tr>\n",
       "      <th>6051</th>\n",
       "      <td>Therizinosaurus Dinosaur Model</td>\n",
       "      <td>5.74</td>\n",
       "      <td>Technical Details Item Weight100 g Product Dim...</td>\n",
       "      <td>Dinosaurs</td>\n",
       "      <td>price: 5.74 category: Dinosaurs product name: ...</td>\n",
       "    </tr>\n",
       "    <tr>\n",
       "      <th>856</th>\n",
       "      <td>Diecast Model VW Beetle in Delphin Grey</td>\n",
       "      <td>14.99</td>\n",
       "      <td>Technical Details Item Weight299 g Manufacture...</td>\n",
       "      <td>Toy Vehicles &amp; Accessories</td>\n",
       "      <td>price: 14.99 category: Toy Vehicles &amp; Accessor...</td>\n",
       "    </tr>\n",
       "    <tr>\n",
       "      <th>...</th>\n",
       "      <td>...</td>\n",
       "      <td>...</td>\n",
       "      <td>...</td>\n",
       "      <td>...</td>\n",
       "      <td>...</td>\n",
       "    </tr>\n",
       "    <tr>\n",
       "      <th>7830</th>\n",
       "      <td>BRIO Road Repair Site</td>\n",
       "      <td>20.53</td>\n",
       "      <td>Technical Details Item Weight5 g Product Dimen...</td>\n",
       "      <td>BRIO</td>\n",
       "      <td>price: 20.53 category: BRIO product name: BRIO...</td>\n",
       "    </tr>\n",
       "    <tr>\n",
       "      <th>6965</th>\n",
       "      <td>Resident Evil 6 Play Arts Kai Helena Harper Ac...</td>\n",
       "      <td>49.88</td>\n",
       "      <td>Technical Details Item Weight454 g Product Dim...</td>\n",
       "      <td>Science Fiction &amp; Fantasy</td>\n",
       "      <td>price: 49.88 category: Science Fiction &amp; Fanta...</td>\n",
       "    </tr>\n",
       "    <tr>\n",
       "      <th>2083</th>\n",
       "      <td>Carrera 1/32 Evolution Aston Martin V12 Vantag...</td>\n",
       "      <td>28.15</td>\n",
       "      <td>Technical Details Item Weight481 g Product Dim...</td>\n",
       "      <td>Slot Cars, Race Tracks &amp; Accessories</td>\n",
       "      <td>price: 28.15 category: Slot Cars, Race Tracks ...</td>\n",
       "    </tr>\n",
       "    <tr>\n",
       "      <th>5350</th>\n",
       "      <td>Bicycle Warrior Horse Deck by USPCC - Trick</td>\n",
       "      <td>2.84</td>\n",
       "      <td>Technical Details Item Weight100 g Manufacture...</td>\n",
       "      <td>Card Games</td>\n",
       "      <td>price: 2.84 category: Card Games product name:...</td>\n",
       "    </tr>\n",
       "    <tr>\n",
       "      <th>1769</th>\n",
       "      <td>Aquaplay Multi Lockbox</td>\n",
       "      <td>74.99</td>\n",
       "      <td>Technical Details Item Weight4.2 Kg Product Di...</td>\n",
       "      <td>Beach Toys</td>\n",
       "      <td>price: 74.99 category: Beach Toys product name...</td>\n",
       "    </tr>\n",
       "  </tbody>\n",
       "</table>\n",
       "<p>7164 rows × 5 columns</p>\n",
       "</div>"
      ],
      "text/plain": [
       "                                           product_name  price  \\\n",
       "6382                   Playmobil 5103 Bear with Caveman  14.64   \n",
       "7276                    Hardwood Wall Mounted Flag Pole  20.99   \n",
       "3150  Monsters Inc Monsters University Party Invitat...   1.49   \n",
       "6051                     Therizinosaurus Dinosaur Model   5.74   \n",
       "856             Diecast Model VW Beetle in Delphin Grey  14.99   \n",
       "...                                                 ...    ...   \n",
       "7830                              BRIO Road Repair Site  20.53   \n",
       "6965  Resident Evil 6 Play Arts Kai Helena Harper Ac...  49.88   \n",
       "2083  Carrera 1/32 Evolution Aston Martin V12 Vantag...  28.15   \n",
       "5350        Bicycle Warrior Horse Deck by USPCC - Trick   2.84   \n",
       "1769                             Aquaplay Multi Lockbox  74.99   \n",
       "\n",
       "                                    product_information  \\\n",
       "6382  Technical Details Item Weight399 g Product Dim...   \n",
       "7276  Technical Details Item Weight898 g Product Dim...   \n",
       "3150  Technical Details Manufacturer recommended age...   \n",
       "6051  Technical Details Item Weight100 g Product Dim...   \n",
       "856   Technical Details Item Weight299 g Manufacture...   \n",
       "...                                                 ...   \n",
       "7830  Technical Details Item Weight5 g Product Dimen...   \n",
       "6965  Technical Details Item Weight454 g Product Dim...   \n",
       "2083  Technical Details Item Weight481 g Product Dim...   \n",
       "5350  Technical Details Item Weight100 g Manufacture...   \n",
       "1769  Technical Details Item Weight4.2 Kg Product Di...   \n",
       "\n",
       "                                category_1  \\\n",
       "6382             Science Fiction & Fantasy   \n",
       "7276                   Kites & Flight Toys   \n",
       "3150                                Disney   \n",
       "6051                             Dinosaurs   \n",
       "856             Toy Vehicles & Accessories   \n",
       "...                                    ...   \n",
       "7830                                  BRIO   \n",
       "6965             Science Fiction & Fantasy   \n",
       "2083  Slot Cars, Race Tracks & Accessories   \n",
       "5350                            Card Games   \n",
       "1769                            Beach Toys   \n",
       "\n",
       "                                                content  \n",
       "6382  price: 14.64 category: Science Fiction & Fanta...  \n",
       "7276  price: 20.99 category: Kites & Flight Toys pro...  \n",
       "3150  price: 1.49 category: Disney product name: Mon...  \n",
       "6051  price: 5.74 category: Dinosaurs product name: ...  \n",
       "856   price: 14.99 category: Toy Vehicles & Accessor...  \n",
       "...                                                 ...  \n",
       "7830  price: 20.53 category: BRIO product name: BRIO...  \n",
       "6965  price: 49.88 category: Science Fiction & Fanta...  \n",
       "2083  price: 28.15 category: Slot Cars, Race Tracks ...  \n",
       "5350  price: 2.84 category: Card Games product name:...  \n",
       "1769  price: 74.99 category: Beach Toys product name...  \n",
       "\n",
       "[7164 rows x 5 columns]"
      ]
     },
     "execution_count": 21,
     "metadata": {},
     "output_type": "execute_result"
    }
   ],
   "source": [
    "df_train"
   ]
  },
  {
   "cell_type": "code",
   "execution_count": 22,
   "metadata": {},
   "outputs": [],
   "source": [
    "df_train.reset_index(drop=True, inplace=True)"
   ]
  },
  {
   "cell_type": "markdown",
   "metadata": {},
   "source": [
    "# **Generate Product Embeddings**"
   ]
  },
  {
   "cell_type": "code",
   "execution_count": 23,
   "metadata": {},
   "outputs": [
    {
     "name": "stderr",
     "output_type": "stream",
     "text": [
      "Batches: 100%|██████████| 224/224 [01:44<00:00,  2.15it/s]\n"
     ]
    }
   ],
   "source": [
    "#Encoding to embedding using pretrained model\n",
    "model = SentenceTransformer('all-MiniLM-L6-v2')\n",
    "\n",
    "list_content = df_train['content'].to_list()\n",
    "\n",
    "corpus_embeddings = model.encode(list_content, show_progress_bar=True, convert_to_tensor=True)\n",
    "corpus_embeddings = corpus_embeddings.to('cpu')"
   ]
  },
  {
   "cell_type": "markdown",
   "metadata": {},
   "source": [
    "## **Fast Clustering**"
   ]
  },
  {
   "cell_type": "code",
   "execution_count": 45,
   "metadata": {},
   "outputs": [
    {
     "name": "stdout",
     "output_type": "stream",
     "text": [
      "Start clustering\n",
      "Clustering done after 2.69 sec\n"
     ]
    }
   ],
   "source": [
    "print(\"Start clustering\")\n",
    "start_time = time.time()\n",
    "\n",
    "clusters = util.community_detection(corpus_embeddings, min_community_size=3, threshold=0.8)\n",
    "\n",
    "print(\"Clustering done after {:.2f} sec\".format(time.time() - start_time))"
   ]
  },
  {
   "cell_type": "markdown",
   "metadata": {},
   "source": [
    "### Show Cluster"
   ]
  },
  {
   "cell_type": "code",
   "execution_count": null,
   "metadata": {},
   "outputs": [],
   "source": [
    "for i, cluster in enumerate(clusters):\n",
    "    print(\"\\nCluster {}, #{} Elements \".format(i+1, len(cluster)))\n",
    "    for sentence_id in cluster[0:3]:\n",
    "        print(\"\\t\", list_content[sentence_id])\n",
    "    print(\"\\t\", \"...\")\n",
    "    for sentence_id in cluster[-3:]:\n",
    "        print(\"\\t\", list_content[sentence_id])"
   ]
  },
  {
   "cell_type": "markdown",
   "metadata": {},
   "source": [
    "### Total Data Clustered"
   ]
  },
  {
   "cell_type": "code",
   "execution_count": 46,
   "metadata": {},
   "outputs": [
    {
     "data": {
      "text/plain": [
       "4419"
      ]
     },
     "execution_count": 46,
     "metadata": {},
     "output_type": "execute_result"
    }
   ],
   "source": [
    "sum_clustered =0 \n",
    "for i in range(len(list_content)):\n",
    "    tf = any(i in x for x in clusters)\n",
    "    if tf:\n",
    "        sum_clustered += 1\n",
    "\n",
    "sum_clustered"
   ]
  },
  {
   "cell_type": "markdown",
   "metadata": {},
   "source": [
    "## **Remove Community Cluster Duplicate**"
   ]
  },
  {
   "cell_type": "code",
   "execution_count": 47,
   "metadata": {},
   "outputs": [
    {
     "name": "stdout",
     "output_type": "stream",
     "text": [
      "length of list of lists is = 4419\n"
     ]
    }
   ],
   "source": [
    "lists_elements_count = 0\n",
    " \n",
    "for ele in clusters:\n",
    "    lists_elements_count += len(ele)    \n",
    " \n",
    "print('length of list of lists is =',lists_elements_count)"
   ]
  },
  {
   "cell_type": "markdown",
   "metadata": {},
   "source": [
    "### So there is no duplicate."
   ]
  },
  {
   "cell_type": "code",
   "execution_count": 48,
   "metadata": {},
   "outputs": [],
   "source": [
    "def delete_multiple_element(list_object, indices):\n",
    "    indices = sorted(indices, reverse=True)\n",
    "    for idx in indices:\n",
    "        if idx < len(list_object):\n",
    "            list_object.pop(idx)"
   ]
  },
  {
   "cell_type": "code",
   "execution_count": 49,
   "metadata": {},
   "outputs": [],
   "source": [
    "idx_clustered = {}\n",
    "new_cluster = []\n",
    "\n",
    "for index, i in enumerate(clusters):\n",
    "    temp_list = clusters[index]\n",
    "    temp_dup = []\n",
    "    for j in clusters[index]:\n",
    "        if j in idx_clustered:\n",
    "            temp_dup.append(j[:])\n",
    "        else:\n",
    "            idx_clustered[j] = 1\n",
    "    \n",
    "    delete_multiple_element(temp_list, temp_dup)\n",
    "    new_cluster.append(temp_list[:])"
   ]
  },
  {
   "cell_type": "markdown",
   "metadata": {},
   "source": [
    "# **Retraining**"
   ]
  },
  {
   "cell_type": "markdown",
   "metadata": {},
   "source": [
    "### Total data not clustered"
   ]
  },
  {
   "cell_type": "code",
   "execution_count": 143,
   "metadata": {},
   "outputs": [
    {
     "data": {
      "text/plain": [
       "2745"
      ]
     },
     "execution_count": 143,
     "metadata": {},
     "output_type": "execute_result"
    }
   ],
   "source": [
    "single_member = [i for i in range(len(list_content)) if i not in idx_clustered]\n",
    "len(single_member)"
   ]
  },
  {
   "cell_type": "markdown",
   "metadata": {},
   "source": [
    "### Get small member cluster (below 10 member) & large member (more than 10 member)"
   ]
  },
  {
   "cell_type": "code",
   "execution_count": 144,
   "metadata": {},
   "outputs": [
    {
     "name": "stdout",
     "output_type": "stream",
     "text": [
      "600\n",
      "55\n"
     ]
    }
   ],
   "source": [
    "small_member = []\n",
    "large_member = []\n",
    "for index, i in enumerate(clusters):\n",
    "    if len(i) < 11:\n",
    "        for j in clusters[index]:\n",
    "            small_member.append(j)\n",
    "    else:\n",
    "        large_member.append(i[:])\n",
    "\n",
    "print(len(small_member))\n",
    "print(len(large_member))"
   ]
  },
  {
   "cell_type": "markdown",
   "metadata": {},
   "source": [
    "### Total Data Large Member"
   ]
  },
  {
   "cell_type": "code",
   "execution_count": 145,
   "metadata": {},
   "outputs": [
    {
     "name": "stdout",
     "output_type": "stream",
     "text": [
      "length of list of lists is = 3819\n"
     ]
    }
   ],
   "source": [
    "lists_elements_count = 0\n",
    "\n",
    "for ele in large_member:\n",
    "    lists_elements_count += len(ele)    \n",
    "\n",
    "print('length of list of lists is =',lists_elements_count)"
   ]
  },
  {
   "cell_type": "markdown",
   "metadata": {},
   "source": [
    "### Concat Small and not clustered member into 1 list"
   ]
  },
  {
   "cell_type": "code",
   "execution_count": 146,
   "metadata": {},
   "outputs": [
    {
     "data": {
      "text/plain": [
       "3345"
      ]
     },
     "execution_count": 146,
     "metadata": {},
     "output_type": "execute_result"
    }
   ],
   "source": [
    "concate_small_single = [*small_member, *single_member]\n",
    "len(concate_small_single)"
   ]
  },
  {
   "cell_type": "markdown",
   "metadata": {},
   "source": [
    "### Save count of member & member before recluster"
   ]
  },
  {
   "cell_type": "code",
   "execution_count": 147,
   "metadata": {},
   "outputs": [
    {
     "data": {
      "text/plain": [
       "[2745, 600, 532, 399, 457, 2431]"
      ]
     },
     "execution_count": 147,
     "metadata": {},
     "output_type": "execute_result"
    }
   ],
   "source": [
    "before_recluster = [0, 0, 0, 0, 0, 0]\n",
    "before_recluster[0] = len(single_member)\n",
    "before_recluster[1] = len(small_member)\n",
    "\n",
    "for cluster in clusters:\n",
    "    if (len(cluster) > 10) and (len(cluster) <= 30):\n",
    "        before_recluster[2] += len(cluster)\n",
    "    elif (len(cluster) > 30) and (len(cluster) <= 50):\n",
    "        before_recluster[3] += len(cluster)\n",
    "    elif (len(cluster) > 50) and (len(cluster) <= 100):\n",
    "        before_recluster[4] += len(cluster)\n",
    "    elif len(cluster) > 100:\n",
    "        before_recluster[5] += len(cluster)\n",
    "\n",
    "before_recluster"
   ]
  },
  {
   "cell_type": "code",
   "execution_count": 148,
   "metadata": {},
   "outputs": [],
   "source": [
    "import copy\n",
    "cluster_before = copy.deepcopy(clusters)"
   ]
  },
  {
   "cell_type": "code",
   "execution_count": 149,
   "metadata": {},
   "outputs": [],
   "source": [
    "#cluster_before = clusters[:]"
   ]
  },
  {
   "cell_type": "markdown",
   "metadata": {},
   "source": [
    "### **Note: Due to list append python can change older list, so we need to run from fast clustering again**"
   ]
  },
  {
   "cell_type": "markdown",
   "metadata": {},
   "source": [
    "## Retraining Using Nearest Member to Member"
   ]
  },
  {
   "cell_type": "code",
   "execution_count": 150,
   "metadata": {},
   "outputs": [],
   "source": [
    "def retrain(small_list, big_list, model_retrain, all_list_content, all_cluster):\n",
    "    bigger_list = copy.deepcopy(big_list)\n",
    "    all_index_cluster = copy.deepcopy(all_cluster)\n",
    "\n",
    "\n",
    "    # Change from index to content\n",
    "    content_group =[]\n",
    "    for i in range(len(bigger_list)):\n",
    "        temp_content_group = []\n",
    "        for j in range(len(bigger_list[i])):\n",
    "            temp_content_group.append(all_list_content[bigger_list[i][j]])\n",
    "        \n",
    "        content_group.append(temp_content_group[:])\n",
    "    \n",
    "    # Change Embedding big member group\n",
    "    list_embedding_big = []\n",
    "    for content_big in content_group:\n",
    "        list_embedding_big.append(model_retrain.encode(content_big, convert_to_tensor=True).to('cpu'))\n",
    "    \n",
    "    \n",
    "\n",
    "    content_small_list =[]\n",
    "    for i in range(len(small_list)):\n",
    "        content_small_list.append(all_list_content[small_list[i]])\n",
    "    \n",
    "    list_embedding_small = []\n",
    "    for content_small in content_small_list:        \n",
    "        list_embedding_small.append(model_retrain.encode(content_small, convert_to_tensor=True).to('cpu'))\n",
    "\n",
    "    \n",
    "    print('Starting to Clustering')\n",
    "    list_not_clustered = []\n",
    "\n",
    "    for idx_small, small_embed in enumerate(list_embedding_small):\n",
    "        temp_highest_sim = 0\n",
    "        temp_cluster = -1\n",
    "\n",
    "        real_index = small_list[idx_small]\n",
    "\n",
    "        small_embed = small_embed.unsqueeze(0)\n",
    "\n",
    "\n",
    "        for idx_big, embed_big in enumerate(list_embedding_big):\n",
    "            max_sim_big = cosine_similarity(small_embed, embed_big).max()\n",
    "            if max_sim_big > temp_highest_sim:\n",
    "                temp_highest_sim = max_sim_big\n",
    "                temp_cluster = idx_big\n",
    "\n",
    "        \n",
    "\n",
    "        # Threshold\n",
    "        if temp_highest_sim > 0.8:    \n",
    "            founded = False\n",
    "            for i in range(len(all_index_cluster)): # If had clustered before\n",
    "                if real_index in all_index_cluster[i]:\n",
    "                    all_index_cluster[i].remove(real_index)\n",
    "                    all_index_cluster[temp_cluster].append(real_index)\n",
    "                    founded = True\n",
    "                    break;\n",
    "\n",
    "            if founded == False:\n",
    "                all_index_cluster[temp_cluster].append(real_index)\n",
    "\n",
    "        else:\n",
    "            founded = False\n",
    "            for i in range(len(all_index_cluster)): # If had clustered before\n",
    "                if real_index in all_index_cluster[i]:\n",
    "                    founded = True\n",
    "                    break;\n",
    "            if founded == False:\n",
    "                list_not_clustered.append(real_index)\n",
    "\n",
    "    \n",
    "    return all_index_cluster, list_not_clustered"
   ]
  },
  {
   "cell_type": "code",
   "execution_count": 151,
   "metadata": {},
   "outputs": [
    {
     "name": "stdout",
     "output_type": "stream",
     "text": [
      "Starting to Clustering\n",
      "Wall time: 6min 15s\n"
     ]
    }
   ],
   "source": [
    "%%time\n",
    "recluster_list, not_clustered_list =  retrain(concate_small_single, large_member, model, list_content, clusters)"
   ]
  },
  {
   "cell_type": "markdown",
   "metadata": {},
   "source": [
    "### Total data still not clustered after reclustering"
   ]
  },
  {
   "cell_type": "code",
   "execution_count": 152,
   "metadata": {},
   "outputs": [
    {
     "data": {
      "text/plain": [
       "617"
      ]
     },
     "execution_count": 152,
     "metadata": {},
     "output_type": "execute_result"
    }
   ],
   "source": [
    "len(not_clustered_list)"
   ]
  },
  {
   "cell_type": "markdown",
   "metadata": {},
   "source": [
    "### Total data after reclustered"
   ]
  },
  {
   "cell_type": "code",
   "execution_count": 153,
   "metadata": {},
   "outputs": [
    {
     "name": "stdout",
     "output_type": "stream",
     "text": [
      "length of list of lists is = 6547\n"
     ]
    }
   ],
   "source": [
    "lists_elements_count = 0\n",
    "\n",
    "for ele in recluster_list:\n",
    "    lists_elements_count += len(ele)    \n",
    " \n",
    "print('length of list of lists is =',lists_elements_count)"
   ]
  },
  {
   "cell_type": "markdown",
   "metadata": {},
   "source": [
    "### Total data before reclustered"
   ]
  },
  {
   "cell_type": "code",
   "execution_count": 154,
   "metadata": {},
   "outputs": [
    {
     "name": "stdout",
     "output_type": "stream",
     "text": [
      "length of list of lists is = 4419\n"
     ]
    }
   ],
   "source": [
    "lists_elements_count = 0\n",
    "\n",
    "for ele in cluster_before:\n",
    "    lists_elements_count += len(ele)    \n",
    "\n",
    "print('length of list of lists is =',lists_elements_count)"
   ]
  },
  {
   "cell_type": "code",
   "execution_count": 155,
   "metadata": {},
   "outputs": [
    {
     "data": {
      "text/plain": [
       "7164"
      ]
     },
     "execution_count": 155,
     "metadata": {},
     "output_type": "execute_result"
    }
   ],
   "source": [
    "# Total Data\n",
    "6547 + 617"
   ]
  },
  {
   "cell_type": "code",
   "execution_count": 156,
   "metadata": {},
   "outputs": [
    {
     "data": {
      "text/plain": [
       "7164"
      ]
     },
     "execution_count": 156,
     "metadata": {},
     "output_type": "execute_result"
    }
   ],
   "source": [
    "2745 + 600 + 3819"
   ]
  },
  {
   "cell_type": "markdown",
   "metadata": {},
   "source": [
    "### Save Count of Member & Member after reclustering member to member"
   ]
  },
  {
   "cell_type": "code",
   "execution_count": 157,
   "metadata": {},
   "outputs": [
    {
     "data": {
      "text/plain": [
       "[617, 247, 449, 378, 795, 4620]"
      ]
     },
     "execution_count": 157,
     "metadata": {},
     "output_type": "execute_result"
    }
   ],
   "source": [
    "after_recluster = [0, 0, 0, 0, 0, 0]\n",
    "after_recluster[0] = len(not_clustered_list)\n",
    "\n",
    "for cluster in recluster_list:\n",
    "    if (len(cluster) > 1) and (len(cluster) <= 10):\n",
    "        after_recluster[1] += len(cluster)\n",
    "    elif (len(cluster) > 10) and (len(cluster) <= 30):\n",
    "        after_recluster[2] += len(cluster)\n",
    "    elif (len(cluster) > 30) and (len(cluster) <= 50):\n",
    "        after_recluster[3] += len(cluster)\n",
    "    elif (len(cluster) > 50) and (len(cluster) <= 100):\n",
    "        after_recluster[4] += len(cluster)\n",
    "    elif len(cluster) > 100:\n",
    "        after_recluster[5] += len(cluster)\n",
    "\n",
    "after_recluster"
   ]
  },
  {
   "cell_type": "code",
   "execution_count": 158,
   "metadata": {},
   "outputs": [
    {
     "data": {
      "text/plain": [
       "[2745, 600, 532, 399, 457, 2431]"
      ]
     },
     "execution_count": 158,
     "metadata": {},
     "output_type": "execute_result"
    }
   ],
   "source": [
    "before_recluster"
   ]
  },
  {
   "cell_type": "markdown",
   "metadata": {},
   "source": [
    "## Retraining Using Nearest Member to Centroid"
   ]
  },
  {
   "cell_type": "markdown",
   "metadata": {},
   "source": [
    "### Total data not clustered"
   ]
  },
  {
   "cell_type": "code",
   "execution_count": 74,
   "metadata": {},
   "outputs": [
    {
     "data": {
      "text/plain": [
       "2745"
      ]
     },
     "execution_count": 74,
     "metadata": {},
     "output_type": "execute_result"
    }
   ],
   "source": [
    "single_member_centroid = [i for i in range(len(list_content)) if i not in idx_clustered]\n",
    "len(single_member_centroid)"
   ]
  },
  {
   "cell_type": "markdown",
   "metadata": {},
   "source": [
    "### Get small member cluster (below 10 member) & large member (more than 10 member)"
   ]
  },
  {
   "cell_type": "code",
   "execution_count": 75,
   "metadata": {},
   "outputs": [
    {
     "name": "stdout",
     "output_type": "stream",
     "text": [
      "600\n",
      "55\n"
     ]
    }
   ],
   "source": [
    "small_member_cen = []\n",
    "large_member_cen = []\n",
    "for index, i in enumerate(cluster_before):\n",
    "    if len(i) < 11:\n",
    "        for j in cluster_before[index]:\n",
    "            small_member_cen.append(j)\n",
    "    else:\n",
    "        large_member_cen.append(i[:])\n",
    "\n",
    "print(len(small_member_cen))\n",
    "print(len(large_member_cen))"
   ]
  },
  {
   "cell_type": "markdown",
   "metadata": {},
   "source": [
    "### Total Data Large Member"
   ]
  },
  {
   "cell_type": "code",
   "execution_count": 76,
   "metadata": {},
   "outputs": [
    {
     "name": "stdout",
     "output_type": "stream",
     "text": [
      "length of list of lists is = 3819\n"
     ]
    }
   ],
   "source": [
    "lists_elements_count = 0\n",
    "\n",
    "for ele in large_member_cen:\n",
    "    lists_elements_count += len(ele)    \n",
    "\n",
    "print('length of list of lists is =',lists_elements_count)"
   ]
  },
  {
   "cell_type": "markdown",
   "metadata": {},
   "source": [
    "### Concat Small and not clustered member into 1 list"
   ]
  },
  {
   "cell_type": "code",
   "execution_count": 77,
   "metadata": {},
   "outputs": [
    {
     "data": {
      "text/plain": [
       "3345"
      ]
     },
     "execution_count": 77,
     "metadata": {},
     "output_type": "execute_result"
    }
   ],
   "source": [
    "concate_small_single_cen = [*small_member_cen, *single_member_centroid]\n",
    "len(concate_small_single_cen)"
   ]
  },
  {
   "cell_type": "code",
   "execution_count": 78,
   "metadata": {},
   "outputs": [],
   "source": [
    "import copy\n",
    "cluster_before_cen = copy.deepcopy(cluster_before)"
   ]
  },
  {
   "cell_type": "code",
   "execution_count": 94,
   "metadata": {},
   "outputs": [],
   "source": [
    "def retrain_centroid(small_list, big_list, model_retrain, all_list_content, all_cluster):\n",
    "    bigger_list = copy.deepcopy(big_list)\n",
    "    all_index_cluster = copy.deepcopy(all_cluster)\n",
    "\n",
    "\n",
    "    # Change from index to content\n",
    "    content_group =[]\n",
    "    for i in range(len(bigger_list)):\n",
    "        temp_content_group = []\n",
    "        for j in range(len(bigger_list[i])):\n",
    "            temp_content_group.append(all_list_content[bigger_list[i][j]])\n",
    "        \n",
    "        content_group.append(temp_content_group[:])\n",
    "    \n",
    "    # Change Embedding big member group\n",
    "    list_embedding_big = []\n",
    "    for content_big in content_group:\n",
    "        list_embedding_big.append(model_retrain.encode(content_big, convert_to_tensor=True).to('cpu'))\n",
    "    \n",
    "    # Get Centroid of every cluster\n",
    "    list_embedding_centroid = []\n",
    "    for index, embed in enumerate(list_embedding_big):\n",
    "        list_embedding_centroid.append(torch.tensor([sum(i)/len(embed) for i in zip(*embed)]))\n",
    "    \n",
    "\n",
    "    content_small_list =[]\n",
    "    for i in range(len(small_list)):\n",
    "        content_small_list.append(all_list_content[small_list[i]])\n",
    "    \n",
    "    list_embedding_small = []\n",
    "    for content_small in content_small_list:        \n",
    "        list_embedding_small.append(model_retrain.encode(content_small, convert_to_tensor=True).to('cpu'))\n",
    "\n",
    "    \n",
    "    print('Starting to Clustering')\n",
    "    list_not_clustered = []\n",
    "\n",
    "    for idx_small, small_embed in enumerate(list_embedding_small):\n",
    "        temp_highest_sim = 0\n",
    "        temp_cluster = -1\n",
    "\n",
    "        real_index = small_list[idx_small]\n",
    "\n",
    "        small_embed = small_embed.unsqueeze(0)\n",
    "\n",
    "\n",
    "        for idx_big, embed_big in enumerate(list_embedding_centroid):\n",
    "            max_sim_big = cosine_similarity(small_embed, embed_big.unsqueeze(0)).max()\n",
    "            if max_sim_big > temp_highest_sim:\n",
    "                temp_highest_sim = max_sim_big\n",
    "                temp_cluster = idx_big\n",
    "        \n",
    "\n",
    "        # Threshold\n",
    "        if temp_highest_sim > 0.8:    \n",
    "            founded = False\n",
    "            for i in range(len(all_index_cluster)): # If had clustered before\n",
    "                if real_index in all_index_cluster[i]:\n",
    "                    all_index_cluster[i].remove(real_index)\n",
    "                    all_index_cluster[temp_cluster].append(real_index)\n",
    "                    founded = True\n",
    "                    break;\n",
    "\n",
    "            if founded == False:\n",
    "                all_index_cluster[temp_cluster].append(real_index)\n",
    "\n",
    "        else:\n",
    "            founded = False\n",
    "            for i in range(len(all_index_cluster)): # If had clustered before\n",
    "                if real_index in all_index_cluster[i]:\n",
    "                    founded = True\n",
    "                    break;\n",
    "            if founded == False:\n",
    "                list_not_clustered.append(real_index)\n",
    "\n",
    "\n",
    "    \n",
    "    return all_index_cluster, list_not_clustered"
   ]
  },
  {
   "cell_type": "code",
   "execution_count": null,
   "metadata": {},
   "outputs": [],
   "source": [
    "%%time\n",
    "recluster_list_cen, not_clustered_list_cen =  retrain_centroid(concate_small_single_cen, large_member_cen, model, list_content, cluster_before)"
   ]
  },
  {
   "cell_type": "code",
   "execution_count": 97,
   "metadata": {},
   "outputs": [
    {
     "name": "stdout",
     "output_type": "stream",
     "text": [
      "length of list of lists is = 6257\n"
     ]
    }
   ],
   "source": [
    "lists_elements_count = 0\n",
    "\n",
    "for ele in recluster_list_cen:\n",
    "    lists_elements_count += len(ele)    \n",
    "\n",
    "print('length of list of lists is =',lists_elements_count)"
   ]
  },
  {
   "cell_type": "code",
   "execution_count": 99,
   "metadata": {},
   "outputs": [
    {
     "data": {
      "text/plain": [
       "907"
      ]
     },
     "execution_count": 99,
     "metadata": {},
     "output_type": "execute_result"
    }
   ],
   "source": [
    "len(not_clustered_list_cen)"
   ]
  },
  {
   "cell_type": "code",
   "execution_count": 100,
   "metadata": {},
   "outputs": [
    {
     "data": {
      "text/plain": [
       "7164"
      ]
     },
     "execution_count": 100,
     "metadata": {},
     "output_type": "execute_result"
    }
   ],
   "source": [
    "907 + 6257"
   ]
  },
  {
   "cell_type": "markdown",
   "metadata": {},
   "source": [
    "### Save count of member & centroid after recluster"
   ]
  },
  {
   "cell_type": "code",
   "execution_count": 107,
   "metadata": {},
   "outputs": [
    {
     "data": {
      "text/plain": [
       "[939, 289, 259, 492, 1159, 4026]"
      ]
     },
     "execution_count": 107,
     "metadata": {},
     "output_type": "execute_result"
    }
   ],
   "source": [
    "after_recluster_cen = [0, 0, 0, 0, 0, 0]\n",
    "after_recluster_cen[0] = len(not_clustered_list_cen)\n",
    "\n",
    "for cluster in recluster_list_cen:\n",
    "    if (len(cluster) > 1) and (len(cluster) <= 10):\n",
    "        after_recluster_cen[1] += len(cluster)\n",
    "    elif (len(cluster) > 10) and (len(cluster) <= 30):\n",
    "        after_recluster_cen[2] += len(cluster)\n",
    "    elif (len(cluster) > 30) and (len(cluster) <= 50):\n",
    "        after_recluster_cen[3] += len(cluster)\n",
    "    elif (len(cluster) > 50) and (len(cluster) <= 100):\n",
    "        after_recluster_cen[4] += len(cluster)\n",
    "    elif len(cluster) > 100:\n",
    "        after_recluster_cen[5] += len(cluster)\n",
    "    elif len(cluster) == 1:\n",
    "        after_recluster_cen[0] += 1\n",
    "\n",
    "after_recluster_cen"
   ]
  },
  {
   "cell_type": "code",
   "execution_count": 87,
   "metadata": {},
   "outputs": [
    {
     "data": {
      "text/plain": [
       "[2745, 600, 532, 399, 457, 2431]"
      ]
     },
     "execution_count": 87,
     "metadata": {},
     "output_type": "execute_result"
    }
   ],
   "source": [
    "before_recluster"
   ]
  },
  {
   "cell_type": "markdown",
   "metadata": {},
   "source": [
    "### Visualization"
   ]
  },
  {
   "cell_type": "code",
   "execution_count": 166,
   "metadata": {},
   "outputs": [
    {
     "data": {
      "image/png": "[encoded data removed]",
      "text/plain": [
       "<Figure size 720x360 with 1 Axes>"
      ]
     },
     "metadata": {
      "needs_background": "light"
     },
     "output_type": "display_data"
    }
   ],
   "source": [
    "fig = plt.figure(figsize = (10, 5))\n",
    "#ax.plot(after_recluster_cen)\n",
    "lab = ['Single Member',\n",
    "'Very Small \\n (2-10 Member)',\n",
    "'Small Member \\n (11-30 Member)',\n",
    "'Medium Member \\n (31-50 Member)',\n",
    "'Large Member \\n (50-100 Member)',\n",
    "'Very Large Member \\n ( > 100 Member)']\n",
    "\n",
    "recluster_cen_viz = [x/sum(before_recluster)*100 for x in before_recluster]\n",
    "\n",
    "plt.bar(lab, recluster_cen_viz, color ='maroon',\n",
    "        width = 0.6)\n",
    "\n",
    "plt.xlabel(\"Cluster Size\")\n",
    "plt.ylabel(\"(%) of All Products\")\n",
    "plt.title(\"Before Reclustering\")\n",
    "\n",
    "plt.show()"
   ]
  },
  {
   "cell_type": "code",
   "execution_count": 164,
   "metadata": {},
   "outputs": [
    {
     "data": {
      "image/png": "[encoded data removed]",
      "text/plain": [
       "<Figure size 720x360 with 1 Axes>"
      ]
     },
     "metadata": {
      "needs_background": "light"
     },
     "output_type": "display_data"
    }
   ],
   "source": [
    "fig = plt.figure(figsize = (10, 5))\n",
    "#ax.plot(after_recluster_cen)\n",
    "lab = ['Single Member',\n",
    "'Very Small \\n (2-10 Member)',\n",
    "'Small Member \\n (11-30 Member)',\n",
    "'Medium Member \\n (31-50 Member)',\n",
    "'Large Member \\n (50-100 Member)',\n",
    "'Very Large Member \\n ( > 100 Member)']\n",
    "\n",
    "recluster_cen_viz = [x/sum(after_recluster)*100 for x in after_recluster]\n",
    "\n",
    "plt.bar(lab, recluster_cen_viz, color ='maroon',\n",
    "        width = 0.6)\n",
    "\n",
    "plt.xlabel(\"Cluster Size\")\n",
    "plt.ylabel(\"(%) of All Products\")\n",
    "plt.title(\"After Reclustering Member to Member\")\n",
    "\n",
    "plt.tight_layout()\n",
    "\n",
    "plt.show()"
   ]
  },
  {
   "cell_type": "code",
   "execution_count": 165,
   "metadata": {},
   "outputs": [
    {
     "data": {
      "image/png": "[encoded data removed]",
      "text/plain": [
       "<Figure size 720x360 with 1 Axes>"
      ]
     },
     "metadata": {
      "needs_background": "light"
     },
     "output_type": "display_data"
    }
   ],
   "source": [
    "fig = plt.figure(figsize = (10, 5))\n",
    "#ax.plot(after_recluster_cen)\n",
    "lab = ['Single Member',\n",
    "'Very Small \\n (2-10 Member)',\n",
    "'Small Member \\n (11-30 Member)',\n",
    "'Medium Member \\n (31-50 Member)',\n",
    "'Large Member \\n (50-100 Member)',\n",
    "'Very Large Member \\n ( > 100 Member)']\n",
    "\n",
    "recluster_cen_viz = [x/sum(after_recluster_cen)*100 for x in after_recluster_cen]\n",
    "\n",
    "plt.bar(lab, recluster_cen_viz, color ='maroon',\n",
    "        width = 0.6)\n",
    "\n",
    "plt.xlabel(\"Cluster Size\")\n",
    "plt.ylabel(\"(%) of All Products\")\n",
    "plt.title(\"After Reclustering Member to Centroid\")\n",
    "\n",
    "plt.tight_layout()\n",
    "\n",
    "plt.show()"
   ]
  },
  {
   "cell_type": "markdown",
   "metadata": {},
   "source": [
    "# **Evaluation**"
   ]
  },
  {
   "cell_type": "markdown",
   "metadata": {},
   "source": [
    "### Score before recluster"
   ]
  },
  {
   "cell_type": "code",
   "execution_count": 318,
   "metadata": {},
   "outputs": [
    {
     "name": "stdout",
     "output_type": "stream",
     "text": [
      "Wall time: 1min 17s\n"
     ]
    }
   ],
   "source": [
    "%%time\n",
    "# Change from index to content\n",
    "content_group_before =[]\n",
    "for i in range(len(cluster_before)):\n",
    "    temp_content_group = []\n",
    "    for j in range(len(cluster_before[i])):\n",
    "        temp_content_group.append(list_content[cluster_before[i][j]])\n",
    "    \n",
    "    content_group_before.append(temp_content_group[:])\n",
    "\n",
    "# Change Embedding big member group\n",
    "list_embedding_before = []\n",
    "for content_big in content_group_before:\n",
    "    list_embedding_before.append(model.encode(content_big, convert_to_tensor=True).to('cpu'))"
   ]
  },
  {
   "cell_type": "code",
   "execution_count": 361,
   "metadata": {},
   "outputs": [
    {
     "name": "stdout",
     "output_type": "stream",
     "text": [
      "Wall time: 31 ms\n"
     ]
    },
    {
     "data": {
      "text/plain": [
       "4419"
      ]
     },
     "execution_count": 361,
     "metadata": {},
     "output_type": "execute_result"
    }
   ],
   "source": [
    "%%time\n",
    "x_before = []\n",
    "label_before = []\n",
    "for index, per_cluster in enumerate(list_embedding_before):\n",
    "    for embed in per_cluster:\n",
    "        x_before.append(embed.cpu().detach().numpy())\n",
    "        label_before.append(index)\n",
    "\n",
    "print(len(x_before))\n",
    "print(len(label_before))"
   ]
  },
  {
   "cell_type": "code",
   "execution_count": 364,
   "metadata": {},
   "outputs": [
    {
     "data": {
      "text/plain": [
       "0.1828671"
      ]
     },
     "execution_count": 364,
     "metadata": {},
     "output_type": "execute_result"
    }
   ],
   "source": [
    "silhouette_score(x_before, label_before)"
   ]
  },
  {
   "cell_type": "markdown",
   "metadata": {},
   "source": [
    "### Score after recluster"
   ]
  },
  {
   "cell_type": "code",
   "execution_count": 365,
   "metadata": {},
   "outputs": [
    {
     "name": "stdout",
     "output_type": "stream",
     "text": [
      "Wall time: 1min 46s\n"
     ]
    }
   ],
   "source": [
    "%%time\n",
    "# Change from index to content\n",
    "content_group_after =[]\n",
    "for i in range(len(recluster_list)):\n",
    "    temp_content_group = []\n",
    "    for j in range(len(recluster_list[i])):\n",
    "        temp_content_group.append(list_content[recluster_list[i][j]])\n",
    "    \n",
    "    content_group_after.append(temp_content_group[:])\n",
    "\n",
    "# Change Embedding big member group\n",
    "list_embedding_after = []\n",
    "for content_big in content_group_after:\n",
    "    list_embedding_after.append(model.encode(content_big, convert_to_tensor=True).to('cpu'))"
   ]
  },
  {
   "cell_type": "code",
   "execution_count": 367,
   "metadata": {},
   "outputs": [
    {
     "name": "stdout",
     "output_type": "stream",
     "text": [
      "Wall time: 61.8 ms\n"
     ]
    },
    {
     "data": {
      "text/plain": [
       "6547"
      ]
     },
     "execution_count": 367,
     "metadata": {},
     "output_type": "execute_result"
    }
   ],
   "source": [
    "%%time\n",
    "x_after = []\n",
    "label_after = []\n",
    "for index, per_cluster in enumerate(list_embedding_after):\n",
    "    for embed in per_cluster:\n",
    "        x_after.append(embed.cpu().detach().numpy())\n",
    "        label_after.append(index)\n",
    "\n",
    "print(len(x_after))\n",
    "print(len(label_after))"
   ]
  },
  {
   "cell_type": "code",
   "execution_count": 369,
   "metadata": {},
   "outputs": [
    {
     "data": {
      "text/plain": [
       "0.10205004"
      ]
     },
     "execution_count": 369,
     "metadata": {},
     "output_type": "execute_result"
    }
   ],
   "source": [
    "silhouette_score(x_after, label_after)"
   ]
  },
  {
   "cell_type": "markdown",
   "metadata": {},
   "source": [
    "### Score after recluster centroid"
   ]
  },
  {
   "cell_type": "code",
   "execution_count": 124,
   "metadata": {},
   "outputs": [
    {
     "name": "stdout",
     "output_type": "stream",
     "text": [
      "186\n",
      "173\n"
     ]
    }
   ],
   "source": [
    "print(len(recluster_list_cen))\n",
    "recluster_list_cen = [s for s in recluster_list_cen if s != []]\n",
    "print(len(recluster_list_cen))"
   ]
  },
  {
   "cell_type": "code",
   "execution_count": 125,
   "metadata": {},
   "outputs": [
    {
     "name": "stdout",
     "output_type": "stream",
     "text": [
      "Wall time: 1min 38s\n"
     ]
    }
   ],
   "source": [
    "%%time\n",
    "# Change from index to content\n",
    "content_group_after =[]\n",
    "for i in range(len(recluster_list_cen)):\n",
    "    temp_content_group = []\n",
    "    for j in range(len(recluster_list_cen[i])):\n",
    "        temp_content_group.append(list_content[recluster_list_cen[i][j]])\n",
    "    \n",
    "    content_group_after.append(temp_content_group[:])\n",
    "\n",
    "# Change Embedding big member group\n",
    "list_embedding_after_cen = []\n",
    "for content_big in content_group_after:\n",
    "    list_embedding_after_cen.append(model.encode(content_big, convert_to_tensor=True).to('cpu'))"
   ]
  },
  {
   "cell_type": "code",
   "execution_count": 127,
   "metadata": {},
   "outputs": [
    {
     "name": "stdout",
     "output_type": "stream",
     "text": [
      "6257\n",
      "6257\n",
      "Wall time: 55.9 ms\n"
     ]
    }
   ],
   "source": [
    "%%time\n",
    "x_after_cen = []\n",
    "label_after_cen = []\n",
    "for index, per_cluster in enumerate(list_embedding_after_cen):\n",
    "    for embed in per_cluster:\n",
    "        x_after_cen.append(embed.cpu().detach().numpy())\n",
    "        label_after_cen.append(index)\n",
    "\n",
    "print(len(x_after_cen))\n",
    "print(len(label_after_cen))"
   ]
  },
  {
   "cell_type": "code",
   "execution_count": 128,
   "metadata": {},
   "outputs": [
    {
     "data": {
      "text/plain": [
       "0.12488353"
      ]
     },
     "execution_count": 128,
     "metadata": {},
     "output_type": "execute_result"
    }
   ],
   "source": [
    "silhouette_score(x_after_cen, label_after_cen)"
   ]
  },
  {
   "cell_type": "markdown",
   "metadata": {},
   "source": [
    "--------------------------------------------------------------------------------------------------------------------------------"
   ]
  },
  {
   "cell_type": "code",
   "execution_count": null,
   "metadata": {},
   "outputs": [],
   "source": []
  }
 ],
 "metadata": {
  "interpreter": {
   "hash": "cd22d45d82967dc74a8e15748ad8c45ffdac2993c2e575e0dd179d8a5f282ef5"
  },
  "kernelspec": {
   "display_name": "Python 3 (ipykernel)",
   "language": "python",
   "name": "python3"
  },
  "language_info": {
   "codemirror_mode": {
    "name": "ipython",
    "version": 3
   },
   "file_extension": ".py",
   "mimetype": "text/x-python",
   "name": "python",
   "nbconvert_exporter": "python",
   "pygments_lexer": "ipython3",
   "version": "3.9.13"
  }
 },
 "nbformat": 4,
 "nbformat_minor": 2
}
